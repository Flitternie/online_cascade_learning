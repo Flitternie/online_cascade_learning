{
 "cells": [
  {
   "cell_type": "markdown",
   "metadata": {},
   "source": [
    "## LLM performance"
   ]
  },
  {
   "cell_type": "code",
   "execution_count": 26,
   "metadata": {},
   "outputs": [
    {
     "name": "stdout",
     "output_type": "stream",
     "text": [
      "Total accuracy:  0.93993993993994\n",
      "Positive accuracy:  0.924\n",
      "Negative accuracy:  0.9559118236472945\n"
     ]
    }
   ],
   "source": [
    "import datasets\n",
    "\n",
    "with open(\"1000_predictions.txt\") as f:\n",
    "    outputs = [int(line.strip()) for line in f.readlines()]\n",
    "\n",
    "imdb_dataset = datasets.load_from_disk('1000_sampled_imdb')\n",
    "labels = imdb_dataset['label']\n",
    "\n",
    "# calculate accuracy for each class\n",
    "pos_correct = 0\n",
    "pos_total = 0\n",
    "neg_correct = 0\n",
    "neg_total = 0\n",
    "for i in range(len(outputs)):\n",
    "    if labels[i] == 1 and outputs[i] != 2:\n",
    "        pos_total += 1\n",
    "        if outputs[i] == labels[i]:\n",
    "            pos_correct += 1\n",
    "    elif labels[i] == 0 and outputs[i] != 2:\n",
    "        neg_total += 1\n",
    "        if outputs[i] == labels[i]:\n",
    "            neg_correct += 1\n",
    "\n",
    "print(\"Total accuracy: \", (pos_correct + neg_correct) / (pos_total + neg_total))\n",
    "print(\"Positive accuracy: \", pos_correct / pos_total)\n",
    "print(\"Negative accuracy: \", neg_correct / neg_total)"
   ]
  },
  {
   "cell_type": "code",
   "execution_count": 3,
   "metadata": {},
   "outputs": [
    {
     "data": {
      "text/plain": [
       "(462, 500, 477, 499)"
      ]
     },
     "execution_count": 3,
     "metadata": {},
     "output_type": "execute_result"
    }
   ],
   "source": [
    "pos_correct, pos_total, neg_correct, neg_total"
   ]
  },
  {
   "cell_type": "markdown",
   "metadata": {},
   "source": [
    "## LLM labels as proxy"
   ]
  },
  {
   "cell_type": "markdown",
   "metadata": {},
   "source": [
    "#### dataset & library import"
   ]
  },
  {
   "cell_type": "code",
   "execution_count": 27,
   "metadata": {},
   "outputs": [
    {
     "name": "stderr",
     "output_type": "stream",
     "text": [
      "/tmp/ipykernel_672274/221098722.py:5: MatplotlibDeprecationWarning: The seaborn styles shipped by Matplotlib are deprecated since 3.6, as they no longer correspond to the styles shipped by seaborn. However, they will remain available as 'seaborn-v0_8-<style>'. Alternatively, directly use the seaborn API instead.\n",
      "  plt.style.use('seaborn-darkgrid')\n"
     ]
    }
   ],
   "source": [
    "# plot the accuracy changes as we adjust the number of samples\n",
    "import matplotlib.pyplot as plt\n",
    "import numpy as np\n",
    "# beautify the plot\n",
    "plt.style.use('seaborn-darkgrid')"
   ]
  },
  {
   "cell_type": "code",
   "execution_count": 28,
   "metadata": {},
   "outputs": [],
   "source": [
    "import datasets\n",
    "# Load the dataset\n",
    "imdb_data = datasets.load_from_disk(\"1000_sampled_imdb\")"
   ]
  },
  {
   "cell_type": "markdown",
   "metadata": {},
   "source": [
    "#### td-idf as word embeddings"
   ]
  },
  {
   "cell_type": "code",
   "execution_count": 91,
   "metadata": {},
   "outputs": [],
   "source": [
    "from sklearn.feature_extraction.text import TfidfVectorizer\n",
    "\n",
    "texts = imdb_data[\"text\"]  # list of texts to classify\n",
    "labels = imdb_data[\"label\"]  # list of texts to classify\n",
    "\n",
    "vectorizer = TfidfVectorizer(stop_words='english', ngram_range=(1, 1), lowercase=True)"
   ]
  },
  {
   "cell_type": "code",
   "execution_count": 92,
   "metadata": {},
   "outputs": [
    {
     "name": "stdout",
     "output_type": "stream",
     "text": [
      "0.94\n",
      "Accuracy: 0.845\n",
      "Positive accuracy:  0.8235294117647058\n",
      "Negative accuracy:  0.8673469387755102\n"
     ]
    }
   ],
   "source": [
    "from sklearn.linear_model import LogisticRegression\n",
    "from sklearn.metrics import accuracy_score\n",
    "from sklearn.model_selection import train_test_split\n",
    "\n",
    "with open(\"1000_predictions.txt\") as f:\n",
    "    llama_labels = [int(line) for line in f.readlines()]\n",
    "\n",
    "filtered_texts, filtered_llama_labels, filtered_labels = [], [], []\n",
    "for t, l, g in zip(texts, llama_labels, labels):\n",
    "    if l != 2:\n",
    "        filtered_texts.append(t)\n",
    "        filtered_llama_labels.append(l)\n",
    "        filtered_labels.append(g)\n",
    "\n",
    "# Split the data into training and test sets\n",
    "X_train_proxy, X_test_proxy, y_train_proxy, y_test_proxy = train_test_split(filtered_texts, filtered_llama_labels, test_size=0.2, random_state=42)\n",
    "# calculate baseline accuracy for the proxy labels\n",
    "baseline_acc = accuracy_score(y_test_gold, y_test_proxy)\n",
    "\n",
    "X_train_proxy = vectorizer.fit_transform(X_train_proxy)\n",
    "X_test_proxy = vectorizer.transform(X_test_proxy)\n",
    "\n",
    "_, _, _, y_test_gold = train_test_split(filtered_texts, filtered_labels, test_size=0.2, random_state=42)\n",
    "\n",
    "# Train a logistic regression classifier\n",
    "classifier = LogisticRegression()\n",
    "classifier.fit(X_train_proxy, y_train_proxy)\n",
    "\n",
    "# Make predictions on the test set\n",
    "y_pred_proxy = classifier.predict(X_test_proxy)\n",
    "\n",
    "# Evaluate the accuracy of the classifier\n",
    "accuracy = accuracy_score(y_test_gold, y_pred_proxy)\n",
    "print(\"Accuracy:\", accuracy)\n",
    "\n",
    "# calculate accuracy for each class\n",
    "pos_correct = 0\n",
    "pos_total = 0\n",
    "neg_correct = 0\n",
    "neg_total = 0\n",
    "for i in range(len(y_pred_proxy)):\n",
    "    if y_test_gold[i] == 1:\n",
    "        pos_total += 1\n",
    "        if y_pred_proxy[i] == y_test_gold[i]:\n",
    "            pos_correct += 1\n",
    "    else:\n",
    "        neg_total += 1\n",
    "        if y_pred_proxy[i] == y_test_gold[i]:\n",
    "            neg_correct += 1\n",
    "\n",
    "print(\"Positive accuracy: \", pos_correct / pos_total)\n",
    "print(\"Negative accuracy: \", neg_correct / neg_total)"
   ]
  },
  {
   "cell_type": "code",
   "execution_count": 8,
   "metadata": {},
   "outputs": [
    {
     "data": {
      "text/plain": [
       "(84, 18, 85, 13)"
      ]
     },
     "execution_count": 8,
     "metadata": {},
     "output_type": "execute_result"
    }
   ],
   "source": [
    "pos_correct, pos_total - pos_correct, neg_correct, neg_total - neg_correct"
   ]
  },
  {
   "cell_type": "code",
   "execution_count": 9,
   "metadata": {},
   "outputs": [
    {
     "data": {
      "text/plain": [
       "(102, 98)"
      ]
     },
     "execution_count": 9,
     "metadata": {},
     "output_type": "execute_result"
    }
   ],
   "source": [
    "pos_total, neg_total"
   ]
  },
  {
   "cell_type": "code",
   "execution_count": 10,
   "metadata": {},
   "outputs": [
    {
     "data": {
      "text/html": [
       "\n",
       "    <style>\n",
       "    table.eli5-weights tr:hover {\n",
       "        filter: brightness(85%);\n",
       "    }\n",
       "</style>\n",
       "\n",
       "\n",
       "\n",
       "    \n",
       "\n",
       "    \n",
       "\n",
       "    \n",
       "\n",
       "    \n",
       "\n",
       "    \n",
       "\n",
       "    \n",
       "\n",
       "\n",
       "    \n",
       "\n",
       "    \n",
       "\n",
       "    \n",
       "\n",
       "    \n",
       "        \n",
       "\n",
       "    \n",
       "\n",
       "        \n",
       "            \n",
       "                \n",
       "                \n",
       "    \n",
       "        <p style=\"margin-bottom: 0.5em; margin-top: 0em\">\n",
       "            <b>\n",
       "    \n",
       "        y=1\n",
       "    \n",
       "</b>\n",
       "\n",
       "top features\n",
       "        </p>\n",
       "    \n",
       "    <table class=\"eli5-weights\"\n",
       "           style=\"border-collapse: collapse; border: none; margin-top: 0em; table-layout: auto; margin-bottom: 2em;\">\n",
       "        <thead>\n",
       "        <tr style=\"border: none;\">\n",
       "            \n",
       "                <th style=\"padding: 0 1em 0 0.5em; text-align: right; border: none;\" title=\"Feature weights. Note that weights do not account for feature value scales, so if feature values have different scales, features with highest weights might not be the most important.\">\n",
       "                    Weight<sup>?</sup>\n",
       "                </th>\n",
       "            \n",
       "            <th style=\"padding: 0 0.5em 0 0.5em; text-align: left; border: none;\">Feature</th>\n",
       "            \n",
       "        </tr>\n",
       "        </thead>\n",
       "        <tbody>\n",
       "        \n",
       "            <tr style=\"background-color: hsl(120, 100.00%, 80.00%); border: none;\">\n",
       "    <td style=\"padding: 0 1em 0 0.5em; text-align: right; border: none;\">\n",
       "        +1.964\n",
       "    </td>\n",
       "    <td style=\"padding: 0 0.5em 0 0.5em; text-align: left; border: none;\">\n",
       "        great\n",
       "    </td>\n",
       "    \n",
       "</tr>\n",
       "        \n",
       "            <tr style=\"background-color: hsl(120, 100.00%, 87.16%); border: none;\">\n",
       "    <td style=\"padding: 0 1em 0 0.5em; text-align: right; border: none;\">\n",
       "        +1.043\n",
       "    </td>\n",
       "    <td style=\"padding: 0 0.5em 0 0.5em; text-align: left; border: none;\">\n",
       "        excellent\n",
       "    </td>\n",
       "    \n",
       "</tr>\n",
       "        \n",
       "            <tr style=\"background-color: hsl(120, 100.00%, 87.30%); border: none;\">\n",
       "    <td style=\"padding: 0 1em 0 0.5em; text-align: right; border: none;\">\n",
       "        +1.027\n",
       "    </td>\n",
       "    <td style=\"padding: 0 0.5em 0 0.5em; text-align: left; border: none;\">\n",
       "        fun\n",
       "    </td>\n",
       "    \n",
       "</tr>\n",
       "        \n",
       "            <tr style=\"background-color: hsl(120, 100.00%, 87.58%); border: none;\">\n",
       "    <td style=\"padding: 0 1em 0 0.5em; text-align: right; border: none;\">\n",
       "        +0.995\n",
       "    </td>\n",
       "    <td style=\"padding: 0 0.5em 0 0.5em; text-align: left; border: none;\">\n",
       "        love\n",
       "    </td>\n",
       "    \n",
       "</tr>\n",
       "        \n",
       "            <tr style=\"background-color: hsl(120, 100.00%, 87.81%); border: none;\">\n",
       "    <td style=\"padding: 0 1em 0 0.5em; text-align: right; border: none;\">\n",
       "        +0.969\n",
       "    </td>\n",
       "    <td style=\"padding: 0 0.5em 0 0.5em; text-align: left; border: none;\">\n",
       "        perfect\n",
       "    </td>\n",
       "    \n",
       "</tr>\n",
       "        \n",
       "            <tr style=\"background-color: hsl(120, 100.00%, 88.21%); border: none;\">\n",
       "    <td style=\"padding: 0 1em 0 0.5em; text-align: right; border: none;\">\n",
       "        +0.923\n",
       "    </td>\n",
       "    <td style=\"padding: 0 0.5em 0 0.5em; text-align: left; border: none;\">\n",
       "        best\n",
       "    </td>\n",
       "    \n",
       "</tr>\n",
       "        \n",
       "            <tr style=\"background-color: hsl(120, 100.00%, 88.48%); border: none;\">\n",
       "    <td style=\"padding: 0 1em 0 0.5em; text-align: right; border: none;\">\n",
       "        +0.893\n",
       "    </td>\n",
       "    <td style=\"padding: 0 0.5em 0 0.5em; text-align: left; border: none;\">\n",
       "        beautiful\n",
       "    </td>\n",
       "    \n",
       "</tr>\n",
       "        \n",
       "            <tr style=\"background-color: hsl(120, 100.00%, 88.51%); border: none;\">\n",
       "    <td style=\"padding: 0 1em 0 0.5em; text-align: right; border: none;\">\n",
       "        +0.890\n",
       "    </td>\n",
       "    <td style=\"padding: 0 0.5em 0 0.5em; text-align: left; border: none;\">\n",
       "        life\n",
       "    </td>\n",
       "    \n",
       "</tr>\n",
       "        \n",
       "            <tr style=\"background-color: hsl(120, 100.00%, 88.70%); border: none;\">\n",
       "    <td style=\"padding: 0 1em 0 0.5em; text-align: right; border: none;\">\n",
       "        +0.869\n",
       "    </td>\n",
       "    <td style=\"padding: 0 0.5em 0 0.5em; text-align: left; border: none;\">\n",
       "        series\n",
       "    </td>\n",
       "    \n",
       "</tr>\n",
       "        \n",
       "            <tr style=\"background-color: hsl(120, 100.00%, 89.19%); border: none;\">\n",
       "    <td style=\"padding: 0 1em 0 0.5em; text-align: right; border: none;\">\n",
       "        +0.816\n",
       "    </td>\n",
       "    <td style=\"padding: 0 0.5em 0 0.5em; text-align: left; border: none;\">\n",
       "        shows\n",
       "    </td>\n",
       "    \n",
       "</tr>\n",
       "        \n",
       "        \n",
       "            <tr style=\"background-color: hsl(120, 100.00%, 89.19%); border: none;\">\n",
       "                <td colspan=\"2\" style=\"padding: 0 0.5em 0 0.5em; text-align: center; border: none; white-space: nowrap;\">\n",
       "                    <i>&hellip; 8129 more positive &hellip;</i>\n",
       "                </td>\n",
       "            </tr>\n",
       "        \n",
       "\n",
       "        \n",
       "            <tr style=\"background-color: hsl(0, 100.00%, 88.42%); border: none;\">\n",
       "                <td colspan=\"2\" style=\"padding: 0 0.5em 0 0.5em; text-align: center; border: none; white-space: nowrap;\">\n",
       "                    <i>&hellip; 7766 more negative &hellip;</i>\n",
       "                </td>\n",
       "            </tr>\n",
       "        \n",
       "        \n",
       "            <tr style=\"background-color: hsl(0, 100.00%, 88.42%); border: none;\">\n",
       "    <td style=\"padding: 0 1em 0 0.5em; text-align: right; border: none;\">\n",
       "        -0.900\n",
       "    </td>\n",
       "    <td style=\"padding: 0 0.5em 0 0.5em; text-align: left; border: none;\">\n",
       "        horrible\n",
       "    </td>\n",
       "    \n",
       "</tr>\n",
       "        \n",
       "            <tr style=\"background-color: hsl(0, 100.00%, 88.42%); border: none;\">\n",
       "    <td style=\"padding: 0 1em 0 0.5em; text-align: right; border: none;\">\n",
       "        -0.900\n",
       "    </td>\n",
       "    <td style=\"padding: 0 0.5em 0 0.5em; text-align: left; border: none;\">\n",
       "        boring\n",
       "    </td>\n",
       "    \n",
       "</tr>\n",
       "        \n",
       "            <tr style=\"background-color: hsl(0, 100.00%, 88.17%); border: none;\">\n",
       "    <td style=\"padding: 0 1em 0 0.5em; text-align: right; border: none;\">\n",
       "        -0.928\n",
       "    </td>\n",
       "    <td style=\"padding: 0 0.5em 0 0.5em; text-align: left; border: none;\">\n",
       "        awful\n",
       "    </td>\n",
       "    \n",
       "</tr>\n",
       "        \n",
       "            <tr style=\"background-color: hsl(0, 100.00%, 88.16%); border: none;\">\n",
       "    <td style=\"padding: 0 1em 0 0.5em; text-align: right; border: none;\">\n",
       "        -0.929\n",
       "    </td>\n",
       "    <td style=\"padding: 0 0.5em 0 0.5em; text-align: left; border: none;\">\n",
       "        worse\n",
       "    </td>\n",
       "    \n",
       "</tr>\n",
       "        \n",
       "            <tr style=\"background-color: hsl(0, 100.00%, 87.87%); border: none;\">\n",
       "    <td style=\"padding: 0 1em 0 0.5em; text-align: right; border: none;\">\n",
       "        -0.962\n",
       "    </td>\n",
       "    <td style=\"padding: 0 0.5em 0 0.5em; text-align: left; border: none;\">\n",
       "        money\n",
       "    </td>\n",
       "    \n",
       "</tr>\n",
       "        \n",
       "            <tr style=\"background-color: hsl(0, 100.00%, 87.74%); border: none;\">\n",
       "    <td style=\"padding: 0 1em 0 0.5em; text-align: right; border: none;\">\n",
       "        -0.976\n",
       "    </td>\n",
       "    <td style=\"padding: 0 0.5em 0 0.5em; text-align: left; border: none;\">\n",
       "        minutes\n",
       "    </td>\n",
       "    \n",
       "</tr>\n",
       "        \n",
       "            <tr style=\"background-color: hsl(0, 100.00%, 86.65%); border: none;\">\n",
       "    <td style=\"padding: 0 1em 0 0.5em; text-align: right; border: none;\">\n",
       "        -1.103\n",
       "    </td>\n",
       "    <td style=\"padding: 0 0.5em 0 0.5em; text-align: left; border: none;\">\n",
       "        waste\n",
       "    </td>\n",
       "    \n",
       "</tr>\n",
       "        \n",
       "            <tr style=\"background-color: hsl(0, 100.00%, 84.76%); border: none;\">\n",
       "    <td style=\"padding: 0 1em 0 0.5em; text-align: right; border: none;\">\n",
       "        -1.332\n",
       "    </td>\n",
       "    <td style=\"padding: 0 0.5em 0 0.5em; text-align: left; border: none;\">\n",
       "        movie\n",
       "    </td>\n",
       "    \n",
       "</tr>\n",
       "        \n",
       "            <tr style=\"background-color: hsl(0, 100.00%, 81.28%); border: none;\">\n",
       "    <td style=\"padding: 0 1em 0 0.5em; text-align: right; border: none;\">\n",
       "        -1.787\n",
       "    </td>\n",
       "    <td style=\"padding: 0 0.5em 0 0.5em; text-align: left; border: none;\">\n",
       "        worst\n",
       "    </td>\n",
       "    \n",
       "</tr>\n",
       "        \n",
       "            <tr style=\"background-color: hsl(0, 100.00%, 80.01%); border: none;\">\n",
       "    <td style=\"padding: 0 1em 0 0.5em; text-align: right; border: none;\">\n",
       "        -1.962\n",
       "    </td>\n",
       "    <td style=\"padding: 0 0.5em 0 0.5em; text-align: left; border: none;\">\n",
       "        bad\n",
       "    </td>\n",
       "    \n",
       "</tr>\n",
       "        \n",
       "\n",
       "        </tbody>\n",
       "    </table>\n",
       "\n",
       "            \n",
       "        \n",
       "\n",
       "        \n",
       "\n",
       "\n",
       "\n",
       "    \n",
       "\n",
       "    \n",
       "\n",
       "    \n",
       "\n",
       "    \n",
       "\n",
       "\n",
       "    \n",
       "\n",
       "    \n",
       "\n",
       "    \n",
       "\n",
       "    \n",
       "\n",
       "    \n",
       "\n",
       "    \n",
       "\n",
       "\n",
       "    \n",
       "\n",
       "    \n",
       "\n",
       "    \n",
       "\n",
       "    \n",
       "\n",
       "    \n",
       "\n",
       "    \n",
       "\n",
       "\n",
       "\n"
      ],
      "text/plain": [
       "<IPython.core.display.HTML object>"
      ]
     },
     "execution_count": 10,
     "metadata": {},
     "output_type": "execute_result"
    }
   ],
   "source": [
    "import eli5\n",
    "\n",
    "eli5.show_weights(estimator=classifier, \n",
    "                  feature_names= list(vectorizer.get_feature_names_out()),\n",
    "                 top=(10, 10))"
   ]
  },
  {
   "cell_type": "markdown",
   "metadata": {},
   "source": [
    "#### sentence-bert as word embeddings"
   ]
  },
  {
   "cell_type": "code",
   "execution_count": 79,
   "metadata": {},
   "outputs": [],
   "source": [
    "from sentence_transformers import SentenceTransformer\n",
    "model = SentenceTransformer('all-MiniLM-L6-v2')\n",
    "\n",
    "texts = imdb_data[\"text\"]  # list of texts to classify\n",
    "labels = imdb_data[\"label\"]  # list of texts to classify\n",
    "\n",
    "# Encode the training set\n",
    "texts = model.encode(texts)"
   ]
  },
  {
   "cell_type": "code",
   "execution_count": 80,
   "metadata": {},
   "outputs": [
    {
     "name": "stdout",
     "output_type": "stream",
     "text": [
      "Accuracy: 0.77\n",
      "Positive accuracy:  0.7549019607843137\n",
      "Negative accuracy:  0.7857142857142857\n"
     ]
    }
   ],
   "source": [
    "from sklearn.linear_model import LogisticRegression\n",
    "from sklearn.metrics import accuracy_score\n",
    "from sklearn.model_selection import train_test_split\n",
    "\n",
    "with open(\"1000_predictions.txt\") as f:\n",
    "    llama_labels = [int(line) for line in f.readlines()]\n",
    "\n",
    "filtered_texts, filtered_llama_labels, filtered_labels = [], [], []\n",
    "for t, l, g in zip(texts, llama_labels, labels):\n",
    "    if l != 2:\n",
    "        filtered_texts.append(t)\n",
    "        filtered_llama_labels.append(l)\n",
    "        filtered_labels.append(g)\n",
    "\n",
    "    \n",
    "# Split the data into training and test sets\n",
    "X_train_proxy, X_test_proxy, y_train_proxy, y_test_proxy = train_test_split(filtered_texts, filtered_llama_labels, test_size=0.2, random_state=42)\n",
    "_, _, _, y_test_gold = train_test_split(filtered_texts, filtered_labels, test_size=0.2, random_state=42)\n",
    "\n",
    "# Train a logistic regression classifier\n",
    "classifier = LogisticRegression()\n",
    "classifier.fit(X_train_proxy, y_train_proxy)\n",
    "\n",
    "# Make predictions on the test set\n",
    "y_pred_proxy = classifier.predict(X_test_proxy)\n",
    "\n",
    "# Evaluate the accuracy of the classifier\n",
    "accuracy = accuracy_score(y_test_gold, y_pred_proxy)\n",
    "print(\"Accuracy:\", accuracy)\n",
    "\n",
    "# calculate accuracy for each class\n",
    "pos_correct = 0\n",
    "pos_total = 0\n",
    "neg_correct = 0\n",
    "neg_total = 0\n",
    "for i in range(len(y_pred_proxy)):\n",
    "    if y_test_gold[i] == 1:\n",
    "        pos_total += 1\n",
    "        if y_pred_proxy[i] == y_test_gold[i]:\n",
    "            pos_correct += 1\n",
    "    else:\n",
    "        neg_total += 1\n",
    "        if y_pred_proxy[i] == y_test_gold[i]:\n",
    "            neg_correct += 1\n",
    "\n",
    "print(\"Positive accuracy: \", pos_correct / pos_total)\n",
    "print(\"Negative accuracy: \", neg_correct / neg_total)"
   ]
  },
  {
   "cell_type": "code",
   "execution_count": 13,
   "metadata": {},
   "outputs": [
    {
     "data": {
      "text/plain": [
       "(77, 25, 77, 21)"
      ]
     },
     "execution_count": 13,
     "metadata": {},
     "output_type": "execute_result"
    }
   ],
   "source": [
    "pos_correct, pos_total - pos_correct, neg_correct, neg_total - neg_correct"
   ]
  },
  {
   "cell_type": "markdown",
   "metadata": {},
   "source": [
    "### RQ - Confidence threshold"
   ]
  },
  {
   "cell_type": "code",
   "execution_count": 31,
   "metadata": {},
   "outputs": [
    {
     "data": {
      "text/plain": [
       "0.4537686704792407"
      ]
     },
     "execution_count": 31,
     "metadata": {},
     "output_type": "execute_result"
    }
   ],
   "source": [
    "classifier.decision_function(X_test_proxy)[0]"
   ]
  },
  {
   "cell_type": "code",
   "execution_count": 58,
   "metadata": {},
   "outputs": [
    {
     "data": {
      "image/png": "[encoded data removed]",
      "text/plain": [
       "<Figure size 640x480 with 1 Axes>"
      ]
     },
     "metadata": {},
     "output_type": "display_data"
    }
   ],
   "source": [
    "# plot a bar chart of the distribution of the confidence scores\n",
    "plt.hist(classifier.decision_function(X_test_proxy), bins=20)\n",
    "plt.xlabel(\"Confidence score\")\n",
    "plt.ylabel(\"Number of samples\")\n",
    "plt.show()\n"
   ]
  },
  {
   "cell_type": "code",
   "execution_count": 81,
   "metadata": {},
   "outputs": [
    {
     "data": {
      "image/png": "[encoded data removed]",
      "text/plain": [
       "<Figure size 700x400 with 1 Axes>"
      ]
     },
     "metadata": {},
     "output_type": "display_data"
    }
   ],
   "source": [
    "confidence = classifier.decision_function(X_test_proxy)\n",
    "acc = []\n",
    "to = []\n",
    "scale = round(max(confidence), 0)\n",
    "num_steps = 50\n",
    "for k in range(num_steps):\n",
    "    total, count = 0, 0\n",
    "    for i in range(len(y_pred_proxy)):\n",
    "        if abs(confidence[i]) > k/num_steps*scale:\n",
    "            total += 1\n",
    "            if y_pred_proxy[i] == y_test_gold[i]:\n",
    "                count += 1\n",
    "    to.append(total)\n",
    "    acc.append(count / total)\n",
    "\n",
    "plt.plot([i/num_steps*scale for i in range(num_steps)], acc)\n",
    "plt.xlabel(\"Confidence threshold\")\n",
    "plt.ylabel(\"Accuracy\")\n",
    "plt.title(\"Accuracy vs. Confidence threshold\")\n",
    "plt.gcf().set_size_inches(7, 4)\n",
    "# plt.savefig('confidence.png', dpi=300)\n",
    "plt.show()"
   ]
  },
  {
   "cell_type": "code",
   "execution_count": 88,
   "metadata": {},
   "outputs": [
    {
     "name": "stdout",
     "output_type": "stream",
     "text": [
      "Max accuracy:  0.945\n",
      "Threshold:  1.32\n"
     ]
    },
    {
     "data": {
      "image/png": "[encoded data removed]",
      "text/plain": [
       "<Figure size 700x400 with 1 Axes>"
      ]
     },
     "metadata": {},
     "output_type": "display_data"
    }
   ],
   "source": [
    "confidence = classifier.decision_function(X_test_proxy)\n",
    "acc = []\n",
    "to = []\n",
    "scale = round(max(confidence), 0)\n",
    "for k in range(num_steps):\n",
    "    total, count = 0, 0\n",
    "    for i in range(len(y_pred_proxy)):\n",
    "        total += 1\n",
    "        if abs(confidence[i]) > k/num_steps*scale:\n",
    "            label_we_use = y_pred_proxy[i]\n",
    "        else:\n",
    "            label_we_use = y_test_proxy[i]\n",
    "        \n",
    "        if label_we_use == y_test_gold[i]:\n",
    "            count += 1\n",
    "    acc.append(count / total)\n",
    "\n",
    "# calculate the threshold for the max accuracy\n",
    "max_acc = max(acc)\n",
    "max_acc_index = acc.index(max_acc)\n",
    "threshold = max_acc_index/num_steps*scale\n",
    "print(\"Max accuracy: \", max_acc)\n",
    "print(\"Threshold: \", threshold)\n",
    "\n",
    "\n",
    "plt.plot([i/num_steps*scale for i in range(num_steps)], acc)\n",
    "plt.plot([i/num_steps*scale for i in range(num_steps)], [baseline_acc for _ in range(num_steps)], linestyle='--')\n",
    "# show max accuracy on the plot\n",
    "plt.annotate(f\"Max accuracy: {max(acc)}\", (0.9, max(acc)))\n",
    "plt.xlabel(\"Confidence threshold\")\n",
    "plt.ylabel(\"Accuracy\")\n",
    "plt.title(\"Overall Accuracy vs. Confidence threshold\")\n",
    "plt.gcf().set_size_inches(7, 4)\n",
    "# plt.savefig('confidence.png', dpi=300)\n",
    "plt.show()"
   ]
  },
  {
   "cell_type": "code",
   "execution_count": 89,
   "metadata": {},
   "outputs": [
    {
     "name": "stdout",
     "output_type": "stream",
     "text": [
      "Accuracy: 1.0\n",
      "Total samples: 39\n"
     ]
    }
   ],
   "source": [
    "# count the number of samples above a certain confidence threshold\n",
    "confidence = classifier.decision_function(X_test_proxy)\n",
    "total, count = 0, 0\n",
    "for i in range(len(y_pred_proxy)):\n",
    "    if abs(confidence[i]) > threshold:\n",
    "        total += 1\n",
    "        if y_pred_proxy[i] == y_test_gold[i]:\n",
    "            count += 1\n",
    "print(\"Accuracy:\", count / total)\n",
    "print(\"Total samples:\", count)\n"
   ]
  },
  {
   "cell_type": "markdown",
   "metadata": {},
   "source": [
    "### RQ - Change training data size"
   ]
  },
  {
   "cell_type": "code",
   "execution_count": 197,
   "metadata": {},
   "outputs": [
    {
     "data": {
      "image/png": "[encoded data removed]",
      "text/plain": [
       "<Figure size 1000x500 with 1 Axes>"
      ]
     },
     "metadata": {},
     "output_type": "display_data"
    }
   ],
   "source": [
    "accuracies = []\n",
    "X_len = X_train_proxy.shape[0]\n",
    "y_len = len(y_train_proxy)\n",
    "for i in range(1, 80):\n",
    "    # Split the data into training and test sets\n",
    "    X_train_proxy_sampled, y_train_proxy_sampled = X_train_proxy[:min(i*10,X_len)], y_train_proxy[:min(i*10,y_len)]\n",
    "    # Train a logistic regression classifier\n",
    "    classifier = LogisticRegression()\n",
    "    classifier.fit(X_train_proxy_sampled, y_train_proxy_sampled)\n",
    "    \n",
    "\n",
    "    # Make predictions on the test set\n",
    "    y_pred_proxy_sampled = classifier.predict(X_test_proxy)\n",
    "\n",
    "    # Evaluate the accuracy of the classifier\n",
    "    accuracy = accuracy_score(y_test_proxy, y_pred_proxy_sampled)\n",
    "    accuracies.append(accuracy)\n",
    "\n",
    "plt.plot(np.arange(10, 800, 10), accuracies)\n",
    "plt.xlabel(\"Number of samples\")\n",
    "plt.ylabel(\"Accuracy\")\n",
    "# set size\n",
    "plt.gcf().set_size_inches(10, 5)\n",
    "plt.savefig('accuracy.png', dpi=300)"
   ]
  },
  {
   "cell_type": "markdown",
   "metadata": {},
   "source": [
    "### RQ - Manually adjust label distribution"
   ]
  },
  {
   "cell_type": "code",
   "execution_count": 205,
   "metadata": {},
   "outputs": [
    {
     "name": "stdout",
     "output_type": "stream",
     "text": [
      "Accuracy: 0.71\n",
      "Positive accuracy:  0.91\n",
      "Negative accuracy:  0.51\n"
     ]
    }
   ],
   "source": [
    "num_samples_idx=8\n",
    "X_train_proxy_sampled, y_train_proxy_sampled = X_train_proxy[:min(num_samples_idx*10,X_len)], y_train_proxy[:min(num_samples_idx*10,y_len)]\n",
    "# Train a logistic regression classifier\n",
    "classifier = LogisticRegression()\n",
    "classifier.fit(X_train_proxy_sampled, y_train_proxy_sampled)\n",
    "\n",
    "# Make predictions on the test set\n",
    "y_pred_proxy_sampled = classifier.predict(X_test_proxy)\n",
    "\n",
    "# Evaluate the accuracy of the classifier\n",
    "accuracy = accuracy_score(y_test_proxy, y_pred_proxy_sampled)\n",
    "print(\"Accuracy:\", accuracy)\n",
    "\n",
    "# calculate accuracy for each class\n",
    "pos_correct = 0\n",
    "pos_total = 0\n",
    "neg_correct = 0\n",
    "neg_total = 0\n",
    "for i in range(len(y_pred_proxy_sampled)):\n",
    "    if y_test_proxy[i] == 1:\n",
    "        pos_total += 1\n",
    "        if y_pred_proxy_sampled[i] == y_test_proxy[i]:\n",
    "            pos_correct += 1\n",
    "    else:\n",
    "        neg_total += 1\n",
    "        if y_pred_proxy_sampled[i] == y_test_proxy[i]:\n",
    "            neg_correct += 1\n",
    "\n",
    "print(\"Positive accuracy: \", pos_correct / pos_total)\n",
    "print(\"Negative accuracy: \", neg_correct / neg_total)"
   ]
  },
  {
   "cell_type": "code",
   "execution_count": 206,
   "metadata": {},
   "outputs": [
    {
     "name": "stdout",
     "output_type": "stream",
     "text": [
      "(377, 15914) (344, 15914)\n"
     ]
    }
   ],
   "source": [
    "import scipy\n",
    "# put more negative samples into training data\n",
    "new_negative_samples = []\n",
    "new_positive_samples = []\n",
    "for x, y in zip(X_train_proxy[:][min(num_samples_idx*10,X_len):], y_train_proxy[:][min(num_samples_idx*10,y_len):]):\n",
    "    if y == 0:\n",
    "        new_negative_samples = scipy.sparse.vstack([new_negative_samples, x]).tocsr()\n",
    "    else:\n",
    "        new_positive_samples = scipy.sparse.vstack([new_positive_samples, x]).tocsr()\n",
    "print(new_negative_samples.shape, new_positive_samples.shape)"
   ]
  },
  {
   "cell_type": "code",
   "execution_count": 209,
   "metadata": {},
   "outputs": [],
   "source": [
    "new_accuracy, new_pos_accuracy, new_neg_accuracy = [accuracy], [pos_correct / pos_total], [neg_correct / neg_total]\n",
    "num_new_samples = 10\n",
    "for k in range(num_new_samples):\n",
    "    X_train_proxy_sampled_plus = scipy.sparse.vstack([X_train_proxy[:min(num_samples_idx*10,X_len)], new_negative_samples[:k]])\n",
    "    y_train_proxy_sampled_plus = y_train_proxy[:min(num_samples_idx*10,y_len)] + [0] * k\n",
    "\n",
    "    # Train a logistic regression classifier\n",
    "    classifier = LogisticRegression()\n",
    "    classifier.fit(X_train_proxy_sampled_plus, y_train_proxy_sampled_plus)\n",
    "\n",
    "    # Make predictions on the test set\n",
    "    y_pred_proxy_sampled_plus = classifier.predict(X_test_proxy)\n",
    "\n",
    "    # Evaluate the accuracy of the classifier\n",
    "    accuracy = accuracy_score(y_test_proxy, y_pred_proxy_sampled_plus)\n",
    "    new_accuracy.append(accuracy)\n",
    "\n",
    "    # calculate accuracy for each class\n",
    "    pos_correct = 0\n",
    "    pos_total = 0\n",
    "    neg_correct = 0\n",
    "    neg_total = 0\n",
    "    for i in range(len(y_pred_proxy_sampled_plus)):\n",
    "        if y_test_proxy[i] == 1:\n",
    "            pos_total += 1\n",
    "            if y_pred_proxy_sampled_plus[i] == y_test_proxy[i]:\n",
    "                pos_correct += 1\n",
    "        else:\n",
    "            neg_total += 1\n",
    "            if y_pred_proxy_sampled_plus[i] == y_test_proxy[i]:\n",
    "                neg_correct += 1\n",
    "                \n",
    "    new_pos_accuracy.append(pos_correct / pos_total)\n",
    "    new_neg_accuracy.append(neg_correct / neg_total)"
   ]
  },
  {
   "cell_type": "code",
   "execution_count": 211,
   "metadata": {},
   "outputs": [
    {
     "name": "stdout",
     "output_type": "stream",
     "text": [
      "[0.5, 0.71, 0.76, 0.755, 0.715, 0.635, 0.585, 0.555, 0.54, 0.53, 0.52]\n"
     ]
    },
    {
     "data": {
      "image/png": "[encoded data removed]",
      "text/plain": [
       "<Figure size 1000x400 with 1 Axes>"
      ]
     },
     "metadata": {},
     "output_type": "display_data"
    }
   ],
   "source": [
    "# plot the accuracy changes as we adjust the number of samples\n",
    "plt.plot(np.arange(num_samples_idx*10, num_samples_idx*10+num_new_samples+1), new_accuracy)\n",
    "plt.plot(np.arange(num_samples_idx*10, num_samples_idx*10+num_new_samples+1), new_pos_accuracy)\n",
    "plt.plot(np.arange(num_samples_idx*10, num_samples_idx*10+num_new_samples+1), new_neg_accuracy)\n",
    "plt.xlabel(\"Number of samples\")\n",
    "plt.ylabel(\"Accuracy\")\n",
    "# set x-axis split\n",
    "plt.xticks(np.arange(num_samples_idx*10, num_samples_idx*10+num_new_samples+1, 1))\n",
    "# set size\n",
    "plt.gcf().set_size_inches(10, 4)\n",
    "plt.savefig('accuracy_change.png', dpi=300)\n",
    "plt.legend([\"Overall\", \"Positive\", \"Negative\"])\n",
    "print(new_accuracy)\n"
   ]
  },
  {
   "cell_type": "markdown",
   "metadata": {},
   "source": [
    "## Training with Ground Truth"
   ]
  },
  {
   "cell_type": "code",
   "execution_count": 213,
   "metadata": {},
   "outputs": [
    {
     "name": "stdout",
     "output_type": "stream",
     "text": [
      "Accuracy: 0.845\n",
      "Positive accuracy:  0.8235294117647058\n",
      "Negative accuracy:  0.8673469387755102\n"
     ]
    }
   ],
   "source": [
    "\n",
    "# Split the data into training and test sets\n",
    "X_train_gold, X_test_gold, y_train_gold, y_test_gold = train_test_split(filtered_texts, filtered_labels, test_size=0.2, random_state=42)\n",
    "\n",
    "X_train_gold = vectorizer.fit_transform(X_train_gold)\n",
    "X_test_gold = vectorizer.transform(X_test_gold)\n",
    "\n",
    "# Train a logistic regression classifier\n",
    "classifier = LogisticRegression()\n",
    "classifier.fit(X_train_gold, y_train_gold)\n",
    "\n",
    "# Make predictions on the test set\n",
    "y_pred_gold = classifier.predict(X_test_gold)\n",
    "\n",
    "# Evaluate the accuracy of the classifier\n",
    "accuracy = accuracy_score(y_test_gold, y_pred_gold)\n",
    "print(\"Accuracy:\", accuracy)\n",
    "\n",
    "\n",
    "# calculate accuracy for each class\n",
    "pos_correct = 0\n",
    "pos_total = 0\n",
    "neg_correct = 0\n",
    "neg_total = 0\n",
    "for i in range(len(y_pred_proxy)):\n",
    "    if y_test_gold[i] == 1:\n",
    "        pos_total += 1\n",
    "        if y_pred_proxy[i] == y_test_gold[i]:\n",
    "            pos_correct += 1\n",
    "    else:\n",
    "        neg_total += 1\n",
    "        if y_pred_proxy[i] == y_test_gold[i]:\n",
    "            neg_correct += 1\n",
    "\n",
    "print(\"Positive accuracy: \", pos_correct / pos_total)\n",
    "print(\"Negative accuracy: \", neg_correct / neg_total)"
   ]
  },
  {
   "cell_type": "code",
   "execution_count": null,
   "metadata": {},
   "outputs": [],
   "source": [
    "pos_correct, pos_total, neg_correct, neg_total"
   ]
  }
 ],
 "metadata": {
  "kernelspec": {
   "display_name": "eff",
   "language": "python",
   "name": "python3"
  },
  "language_info": {
   "codemirror_mode": {
    "name": "ipython",
    "version": 3
   },
   "file_extension": ".py",
   "mimetype": "text/x-python",
   "name": "python",
   "nbconvert_exporter": "python",
   "pygments_lexer": "ipython3",
   "version": "3.10.12"
  },
  "orig_nbformat": 4
 },
 "nbformat": 4,
 "nbformat_minor": 2
}
