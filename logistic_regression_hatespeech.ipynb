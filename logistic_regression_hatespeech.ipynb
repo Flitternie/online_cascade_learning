{
 "cells": [
  {
   "cell_type": "markdown",
   "metadata": {},
   "source": [
    "## LLM performance"
   ]
  },
  {
   "cell_type": "code",
   "execution_count": 1,
   "metadata": {},
   "outputs": [],
   "source": [
    "with open(\"hatespeech_predictions.txt\", \"r\") as f:\n",
    "    outputs = [int(line.strip()) for line in f.readlines()]"
   ]
  },
  {
   "cell_type": "code",
   "execution_count": 74,
   "metadata": {},
   "outputs": [
    {
     "name": "stdout",
     "output_type": "stream",
     "text": [
      "Overall accuracy: 0.8415\n",
      "Positive accuracy:  0.65625\n",
      "Negative accuracy:  0.8648648648648649\n"
     ]
    }
   ],
   "source": [
    "import datasets\n",
    "\n",
    "data = datasets.load_from_disk('2000_sampled_hatespeech')\n",
    "labels = data['label']\n",
    "\n",
    "# calculate overall accuracy\n",
    "correct = 0\n",
    "total = 0\n",
    "for i in range(len(outputs)):\n",
    "    total += 1\n",
    "    if outputs[i] == labels[i]:\n",
    "        correct += 1\n",
    "print(\"Overall accuracy: {}\".format(correct / total))\n",
    "\n",
    "# calculate accuracy for each class\n",
    "pos_correct = 0\n",
    "pos_total = 0\n",
    "neg_correct = 0\n",
    "neg_total = 0\n",
    "for i in range(len(outputs)):\n",
    "    if labels[i] == 1:\n",
    "        pos_total += 1\n",
    "        if outputs[i] == labels[i]:\n",
    "            pos_correct += 1\n",
    "    else:\n",
    "        neg_total += 1\n",
    "        if outputs[i] == labels[i]:\n",
    "            neg_correct += 1\n",
    "\n",
    "print(\"Positive accuracy: \", pos_correct / pos_total)\n",
    "print(\"Negative accuracy: \", neg_correct / neg_total)\n"
   ]
  },
  {
   "cell_type": "code",
   "execution_count": 108,
   "metadata": {},
   "outputs": [
    {
     "data": {
      "text/plain": [
       "43"
      ]
     },
     "execution_count": 108,
     "metadata": {},
     "output_type": "execute_result"
    }
   ],
   "source": [
    "pos_total"
   ]
  },
  {
   "cell_type": "code",
   "execution_count": 75,
   "metadata": {},
   "outputs": [
    {
     "data": {
      "text/plain": [
       "(147, 77, 224, 1536, 240, 1776)"
      ]
     },
     "execution_count": 75,
     "metadata": {},
     "output_type": "execute_result"
    }
   ],
   "source": [
    "pos_correct, pos_total-pos_correct, pos_total, neg_correct, neg_total-neg_correct, neg_total"
   ]
  },
  {
   "cell_type": "markdown",
   "metadata": {},
   "source": [
    "## LLM labels as proxy"
   ]
  },
  {
   "cell_type": "markdown",
   "metadata": {},
   "source": [
    "#### dataset & library import"
   ]
  },
  {
   "cell_type": "code",
   "execution_count": 76,
   "metadata": {},
   "outputs": [
    {
     "name": "stderr",
     "output_type": "stream",
     "text": [
      "/tmp/ipykernel_669187/221098722.py:5: MatplotlibDeprecationWarning: The seaborn styles shipped by Matplotlib are deprecated since 3.6, as they no longer correspond to the styles shipped by seaborn. However, they will remain available as 'seaborn-v0_8-<style>'. Alternatively, directly use the seaborn API instead.\n",
      "  plt.style.use('seaborn-darkgrid')\n"
     ]
    }
   ],
   "source": [
    "# plot the accuracy changes as we adjust the number of samples\n",
    "import matplotlib.pyplot as plt\n",
    "import numpy as np\n",
    "# beautify the plot\n",
    "plt.style.use('seaborn-darkgrid')"
   ]
  },
  {
   "cell_type": "markdown",
   "metadata": {},
   "source": [
    "#### td-idf as word embeddings"
   ]
  },
  {
   "cell_type": "code",
   "execution_count": 77,
   "metadata": {},
   "outputs": [],
   "source": [
    "from sklearn.feature_extraction.text import TfidfVectorizer\n",
    "\n",
    "texts = data[\"text\"]  # list of texts to classify\n",
    "labels = data[\"label\"]  # list of texts to classify\n",
    "\n",
    "vectorizer = TfidfVectorizer(stop_words='english', ngram_range=(1, 1), lowercase=True)"
   ]
  },
  {
   "cell_type": "code",
   "execution_count": 83,
   "metadata": {},
   "outputs": [
    {
     "name": "stdout",
     "output_type": "stream",
     "text": [
      "Accuracy: 0.8925\n",
      "Positive accuracy:  0.046511627906976744\n",
      "Negative accuracy:  0.9943977591036415\n"
     ]
    }
   ],
   "source": [
    "from sklearn.linear_model import LogisticRegression\n",
    "from sklearn.metrics import accuracy_score\n",
    "from sklearn.model_selection import train_test_split\n",
    "\n",
    "with open(\"hatespeech_predictions.txt\") as f:\n",
    "    llama_labels = [int(line) for line in f.readlines()]\n",
    "\n",
    "# Split the data into training and test sets\n",
    "X_train_proxy, X_test_proxy, y_train_proxy, y_test_proxy = train_test_split(texts, llama_labels, test_size=0.2, random_state=42)\n",
    "X_train_proxy = vectorizer.fit_transform(X_train_proxy)\n",
    "X_test_proxy = vectorizer.transform(X_test_proxy)\n",
    "\n",
    "_, _, _, y_test_gold = train_test_split(texts, labels, test_size=0.2, random_state=42)\n",
    "baseline_acc = accuracy_score(y_test_proxy, y_test_gold)\n",
    "\n",
    "\n",
    "# Train a logistic regression classifier\n",
    "classifier = LogisticRegression()\n",
    "classifier.fit(X_train_proxy, y_train_proxy)\n",
    "\n",
    "# Make predictions on the test set\n",
    "y_pred_proxy = classifier.predict(X_test_proxy)\n",
    "\n",
    "# Evaluate the accuracy of the classifier\n",
    "accuracy = accuracy_score(y_test_gold, y_pred_proxy)\n",
    "print(\"Accuracy:\", accuracy)\n",
    "\n",
    "# calculate accuracy for each class\n",
    "pos_correct = 0\n",
    "pos_total = 0\n",
    "neg_correct = 0\n",
    "neg_total = 0\n",
    "for i in range(len(y_pred_proxy)):\n",
    "    if y_test_gold[i] == 1:\n",
    "        pos_total += 1\n",
    "        if y_pred_proxy[i] == y_test_gold[i]:\n",
    "            pos_correct += 1\n",
    "    else:\n",
    "        neg_total += 1\n",
    "        if y_pred_proxy[i] == y_test_gold[i]:\n",
    "            neg_correct += 1\n",
    "\n",
    "print(\"Positive accuracy: \", pos_correct / pos_total)\n",
    "print(\"Negative accuracy: \", neg_correct / neg_total)"
   ]
  },
  {
   "cell_type": "code",
   "execution_count": 85,
   "metadata": {},
   "outputs": [
    {
     "data": {
      "text/plain": [
       "(2, 41, 43, 355, 2, 357)"
      ]
     },
     "execution_count": 85,
     "metadata": {},
     "output_type": "execute_result"
    }
   ],
   "source": [
    "pos_correct, pos_total-pos_correct, pos_total, neg_correct, neg_total-neg_correct, neg_total"
   ]
  },
  {
   "cell_type": "code",
   "execution_count": 86,
   "metadata": {},
   "outputs": [
    {
     "data": {
      "text/html": [
       "\n",
       "    <style>\n",
       "    table.eli5-weights tr:hover {\n",
       "        filter: brightness(85%);\n",
       "    }\n",
       "</style>\n",
       "\n",
       "\n",
       "\n",
       "    \n",
       "\n",
       "    \n",
       "\n",
       "    \n",
       "\n",
       "    \n",
       "\n",
       "    \n",
       "\n",
       "    \n",
       "\n",
       "\n",
       "    \n",
       "\n",
       "    \n",
       "\n",
       "    \n",
       "\n",
       "    \n",
       "        \n",
       "\n",
       "    \n",
       "\n",
       "        \n",
       "            \n",
       "                \n",
       "                \n",
       "    \n",
       "        <p style=\"margin-bottom: 0.5em; margin-top: 0em\">\n",
       "            <b>\n",
       "    \n",
       "        y=1\n",
       "    \n",
       "</b>\n",
       "\n",
       "top features\n",
       "        </p>\n",
       "    \n",
       "    <table class=\"eli5-weights\"\n",
       "           style=\"border-collapse: collapse; border: none; margin-top: 0em; table-layout: auto; margin-bottom: 2em;\">\n",
       "        <thead>\n",
       "        <tr style=\"border: none;\">\n",
       "            \n",
       "                <th style=\"padding: 0 1em 0 0.5em; text-align: right; border: none;\" title=\"Feature weights. Note that weights do not account for feature value scales, so if feature values have different scales, features with highest weights might not be the most important.\">\n",
       "                    Weight<sup>?</sup>\n",
       "                </th>\n",
       "            \n",
       "            <th style=\"padding: 0 0.5em 0 0.5em; text-align: left; border: none;\">Feature</th>\n",
       "            \n",
       "        </tr>\n",
       "        </thead>\n",
       "        <tbody>\n",
       "        \n",
       "            <tr style=\"background-color: hsl(120, 100.00%, 80.00%); border: none;\">\n",
       "    <td style=\"padding: 0 1em 0 0.5em; text-align: right; border: none;\">\n",
       "        +2.468\n",
       "    </td>\n",
       "    <td style=\"padding: 0 0.5em 0 0.5em; text-align: left; border: none;\">\n",
       "        jews\n",
       "    </td>\n",
       "    \n",
       "</tr>\n",
       "        \n",
       "            <tr style=\"background-color: hsl(120, 100.00%, 80.10%); border: none;\">\n",
       "    <td style=\"padding: 0 1em 0 0.5em; text-align: right; border: none;\">\n",
       "        +2.451\n",
       "    </td>\n",
       "    <td style=\"padding: 0 0.5em 0 0.5em; text-align: left; border: none;\">\n",
       "        white\n",
       "    </td>\n",
       "    \n",
       "</tr>\n",
       "        \n",
       "            <tr style=\"background-color: hsl(120, 100.00%, 82.11%); border: none;\">\n",
       "    <td style=\"padding: 0 1em 0 0.5em; text-align: right; border: none;\">\n",
       "        +2.105\n",
       "    </td>\n",
       "    <td style=\"padding: 0 0.5em 0 0.5em; text-align: left; border: none;\">\n",
       "        whites\n",
       "    </td>\n",
       "    \n",
       "</tr>\n",
       "        \n",
       "            <tr style=\"background-color: hsl(120, 100.00%, 83.69%); border: none;\">\n",
       "    <td style=\"padding: 0 1em 0 0.5em; text-align: right; border: none;\">\n",
       "        +1.845\n",
       "    </td>\n",
       "    <td style=\"padding: 0 0.5em 0 0.5em; text-align: left; border: none;\">\n",
       "        negro\n",
       "    </td>\n",
       "    \n",
       "</tr>\n",
       "        \n",
       "            <tr style=\"background-color: hsl(120, 100.00%, 86.31%); border: none;\">\n",
       "    <td style=\"padding: 0 1em 0 0.5em; text-align: right; border: none;\">\n",
       "        +1.436\n",
       "    </td>\n",
       "    <td style=\"padding: 0 0.5em 0 0.5em; text-align: left; border: none;\">\n",
       "        jew\n",
       "    </td>\n",
       "    \n",
       "</tr>\n",
       "        \n",
       "            <tr style=\"background-color: hsl(120, 100.00%, 86.56%); border: none;\">\n",
       "    <td style=\"padding: 0 1em 0 0.5em; text-align: right; border: none;\">\n",
       "        +1.399\n",
       "    </td>\n",
       "    <td style=\"padding: 0 0.5em 0 0.5em; text-align: left; border: none;\">\n",
       "        race\n",
       "    </td>\n",
       "    \n",
       "</tr>\n",
       "        \n",
       "            <tr style=\"background-color: hsl(120, 100.00%, 86.63%); border: none;\">\n",
       "    <td style=\"padding: 0 1em 0 0.5em; text-align: right; border: none;\">\n",
       "        +1.389\n",
       "    </td>\n",
       "    <td style=\"padding: 0 0.5em 0 0.5em; text-align: left; border: none;\">\n",
       "        negroes\n",
       "    </td>\n",
       "    \n",
       "</tr>\n",
       "        \n",
       "            <tr style=\"background-color: hsl(120, 100.00%, 86.99%); border: none;\">\n",
       "    <td style=\"padding: 0 1em 0 0.5em; text-align: right; border: none;\">\n",
       "        +1.336\n",
       "    </td>\n",
       "    <td style=\"padding: 0 0.5em 0 0.5em; text-align: left; border: none;\">\n",
       "        jewish\n",
       "    </td>\n",
       "    \n",
       "</tr>\n",
       "        \n",
       "            <tr style=\"background-color: hsl(120, 100.00%, 87.50%); border: none;\">\n",
       "    <td style=\"padding: 0 1em 0 0.5em; text-align: right; border: none;\">\n",
       "        +1.262\n",
       "    </td>\n",
       "    <td style=\"padding: 0 0.5em 0 0.5em; text-align: left; border: none;\">\n",
       "        need\n",
       "    </td>\n",
       "    \n",
       "</tr>\n",
       "        \n",
       "            <tr style=\"background-color: hsl(120, 100.00%, 88.06%); border: none;\">\n",
       "    <td style=\"padding: 0 1em 0 0.5em; text-align: right; border: none;\">\n",
       "        +1.181\n",
       "    </td>\n",
       "    <td style=\"padding: 0 0.5em 0 0.5em; text-align: left; border: none;\">\n",
       "        africa\n",
       "    </td>\n",
       "    \n",
       "</tr>\n",
       "        \n",
       "        \n",
       "            <tr style=\"background-color: hsl(120, 100.00%, 88.06%); border: none;\">\n",
       "                <td colspan=\"2\" style=\"padding: 0 0.5em 0 0.5em; text-align: center; border: none; white-space: nowrap;\">\n",
       "                    <i>&hellip; 1602 more positive &hellip;</i>\n",
       "                </td>\n",
       "            </tr>\n",
       "        \n",
       "\n",
       "        \n",
       "            <tr style=\"background-color: hsl(0, 100.00%, 93.29%); border: none;\">\n",
       "                <td colspan=\"2\" style=\"padding: 0 0.5em 0 0.5em; text-align: center; border: none; white-space: nowrap;\">\n",
       "                    <i>&hellip; 3391 more negative &hellip;</i>\n",
       "                </td>\n",
       "            </tr>\n",
       "        \n",
       "        \n",
       "            <tr style=\"background-color: hsl(0, 100.00%, 93.29%); border: none;\">\n",
       "    <td style=\"padding: 0 1em 0 0.5em; text-align: right; border: none;\">\n",
       "        -0.518\n",
       "    </td>\n",
       "    <td style=\"padding: 0 0.5em 0 0.5em; text-align: left; border: none;\">\n",
       "        anti\n",
       "    </td>\n",
       "    \n",
       "</tr>\n",
       "        \n",
       "            <tr style=\"background-color: hsl(0, 100.00%, 92.78%); border: none;\">\n",
       "    <td style=\"padding: 0 1em 0 0.5em; text-align: right; border: none;\">\n",
       "        -0.576\n",
       "    </td>\n",
       "    <td style=\"padding: 0 0.5em 0 0.5em; text-align: left; border: none;\">\n",
       "        hello\n",
       "    </td>\n",
       "    \n",
       "</tr>\n",
       "        \n",
       "            <tr style=\"background-color: hsl(0, 100.00%, 92.78%); border: none;\">\n",
       "    <td style=\"padding: 0 1em 0 0.5em; text-align: right; border: none;\">\n",
       "        -0.576\n",
       "    </td>\n",
       "    <td style=\"padding: 0 0.5em 0 0.5em; text-align: left; border: none;\">\n",
       "        ago\n",
       "    </td>\n",
       "    \n",
       "</tr>\n",
       "        \n",
       "            <tr style=\"background-color: hsl(0, 100.00%, 92.73%); border: none;\">\n",
       "    <td style=\"padding: 0 1em 0 0.5em; text-align: right; border: none;\">\n",
       "        -0.581\n",
       "    </td>\n",
       "    <td style=\"padding: 0 0.5em 0 0.5em; text-align: left; border: none;\">\n",
       "        music\n",
       "    </td>\n",
       "    \n",
       "</tr>\n",
       "        \n",
       "            <tr style=\"background-color: hsl(0, 100.00%, 92.65%); border: none;\">\n",
       "    <td style=\"padding: 0 1em 0 0.5em; text-align: right; border: none;\">\n",
       "        -0.591\n",
       "    </td>\n",
       "    <td style=\"padding: 0 0.5em 0 0.5em; text-align: left; border: none;\">\n",
       "        post\n",
       "    </td>\n",
       "    \n",
       "</tr>\n",
       "        \n",
       "            <tr style=\"background-color: hsl(0, 100.00%, 92.26%); border: none;\">\n",
       "    <td style=\"padding: 0 1em 0 0.5em; text-align: right; border: none;\">\n",
       "        -0.635\n",
       "    </td>\n",
       "    <td style=\"padding: 0 0.5em 0 0.5em; text-align: left; border: none;\">\n",
       "        idea\n",
       "    </td>\n",
       "    \n",
       "</tr>\n",
       "        \n",
       "            <tr style=\"background-color: hsl(0, 100.00%, 91.96%); border: none;\">\n",
       "    <td style=\"padding: 0 1em 0 0.5em; text-align: right; border: none;\">\n",
       "        -0.672\n",
       "    </td>\n",
       "    <td style=\"padding: 0 0.5em 0 0.5em; text-align: left; border: none;\">\n",
       "        old\n",
       "    </td>\n",
       "    \n",
       "</tr>\n",
       "        \n",
       "            <tr style=\"background-color: hsl(0, 100.00%, 91.92%); border: none;\">\n",
       "    <td style=\"padding: 0 1em 0 0.5em; text-align: right; border: none;\">\n",
       "        -0.677\n",
       "    </td>\n",
       "    <td style=\"padding: 0 0.5em 0 0.5em; text-align: left; border: none;\">\n",
       "        ll\n",
       "    </td>\n",
       "    \n",
       "</tr>\n",
       "        \n",
       "            <tr style=\"background-color: hsl(0, 100.00%, 90.11%); border: none;\">\n",
       "    <td style=\"padding: 0 1em 0 0.5em; text-align: right; border: none;\">\n",
       "        -0.902\n",
       "    </td>\n",
       "    <td style=\"padding: 0 0.5em 0 0.5em; text-align: left; border: none;\">\n",
       "        thanks\n",
       "    </td>\n",
       "    \n",
       "</tr>\n",
       "        \n",
       "            <tr style=\"background-color: hsl(0, 100.00%, 84.81%); border: none;\">\n",
       "    <td style=\"padding: 0 1em 0 0.5em; text-align: right; border: none;\">\n",
       "        -1.665\n",
       "    </td>\n",
       "    <td style=\"padding: 0 0.5em 0 0.5em; text-align: left; border: none;\">\n",
       "        &lt;BIAS&gt;\n",
       "    </td>\n",
       "    \n",
       "</tr>\n",
       "        \n",
       "\n",
       "        </tbody>\n",
       "    </table>\n",
       "\n",
       "            \n",
       "        \n",
       "\n",
       "        \n",
       "\n",
       "\n",
       "\n",
       "    \n",
       "\n",
       "    \n",
       "\n",
       "    \n",
       "\n",
       "    \n",
       "\n",
       "\n",
       "    \n",
       "\n",
       "    \n",
       "\n",
       "    \n",
       "\n",
       "    \n",
       "\n",
       "    \n",
       "\n",
       "    \n",
       "\n",
       "\n",
       "    \n",
       "\n",
       "    \n",
       "\n",
       "    \n",
       "\n",
       "    \n",
       "\n",
       "    \n",
       "\n",
       "    \n",
       "\n",
       "\n",
       "\n"
      ],
      "text/plain": [
       "<IPython.core.display.HTML object>"
      ]
     },
     "execution_count": 86,
     "metadata": {},
     "output_type": "execute_result"
    }
   ],
   "source": [
    "import eli5\n",
    "\n",
    "eli5.show_weights(estimator=classifier, \n",
    "                  feature_names= list(vectorizer.get_feature_names_out()),\n",
    "                 top=(10, 10))"
   ]
  },
  {
   "cell_type": "markdown",
   "metadata": {},
   "source": [
    "#### sentence-bert as word embeddings"
   ]
  },
  {
   "cell_type": "code",
   "execution_count": 87,
   "metadata": {},
   "outputs": [],
   "source": [
    "from sentence_transformers import SentenceTransformer\n",
    "model = SentenceTransformer('all-MiniLM-L6-v2')\n",
    "\n",
    "texts = data[\"text\"]  # list of texts to classify\n",
    "labels = data[\"label\"]  # list of texts to classify\n",
    "\n",
    "# Encode the training set\n",
    "texts = model.encode(texts)"
   ]
  },
  {
   "cell_type": "code",
   "execution_count": 88,
   "metadata": {},
   "outputs": [
    {
     "name": "stdout",
     "output_type": "stream",
     "text": [
      "Accuracy: 0.885\n",
      "Positive accuracy:  0.32558139534883723\n",
      "Negative accuracy:  0.9523809523809523\n"
     ]
    }
   ],
   "source": [
    "from sklearn.linear_model import LogisticRegression\n",
    "from sklearn.metrics import accuracy_score\n",
    "from sklearn.model_selection import train_test_split\n",
    "\n",
    "with open(\"hatespeech_predictions.txt\") as f:\n",
    "    llama_labels = [int(line) for line in f.readlines()]\n",
    "    \n",
    "# Split the data into training and test sets\n",
    "X_train_proxy, X_test_proxy, y_train_proxy, y_test_proxy = train_test_split(texts, llama_labels, test_size=0.2, random_state=42)\n",
    "_, _, _, y_test_gold = train_test_split(texts, labels, test_size=0.2, random_state=42)\n",
    "\n",
    "# Train a logistic regression classifier\n",
    "classifier = LogisticRegression()\n",
    "classifier.fit(X_train_proxy, y_train_proxy)\n",
    "\n",
    "# Make predictions on the test set\n",
    "y_pred_proxy = classifier.predict(X_test_proxy)\n",
    "\n",
    "# Evaluate the accuracy of the classifier\n",
    "accuracy = accuracy_score(y_test_gold, y_pred_proxy)\n",
    "print(\"Accuracy:\", accuracy)\n",
    "\n",
    "# calculate accuracy for each class\n",
    "pos_correct = 0\n",
    "pos_total = 0\n",
    "neg_correct = 0\n",
    "neg_total = 0\n",
    "for i in range(len(y_pred_proxy)):\n",
    "    if y_test_gold[i] == 1:\n",
    "        pos_total += 1\n",
    "        if y_pred_proxy[i] == y_test_gold[i]:\n",
    "            pos_correct += 1\n",
    "    else:\n",
    "        neg_total += 1\n",
    "        if y_pred_proxy[i] == y_test_gold[i]:\n",
    "            neg_correct += 1\n",
    "\n",
    "print(\"Positive accuracy: \", pos_correct / pos_total)\n",
    "print(\"Negative accuracy: \", neg_correct / neg_total)"
   ]
  },
  {
   "cell_type": "code",
   "execution_count": 89,
   "metadata": {},
   "outputs": [
    {
     "data": {
      "text/plain": [
       "(14, 29, 43, 340, 17, 357)"
      ]
     },
     "execution_count": 89,
     "metadata": {},
     "output_type": "execute_result"
    }
   ],
   "source": [
    "pos_correct, pos_total-pos_correct, pos_total, neg_correct, neg_total-neg_correct, neg_total"
   ]
  },
  {
   "cell_type": "markdown",
   "metadata": {},
   "source": [
    "### RQ - Confidence threshold"
   ]
  },
  {
   "cell_type": "code",
   "execution_count": 96,
   "metadata": {},
   "outputs": [
    {
     "data": {
      "image/png": "[encoded data removed]",
      "text/plain": [
       "<Figure size 640x480 with 1 Axes>"
      ]
     },
     "metadata": {},
     "output_type": "display_data"
    }
   ],
   "source": [
    "# plot a bar chart of the distribution of the confidence scores\n",
    "plt.hist(classifier.decision_function(X_test_proxy), bins=20)\n",
    "plt.xlabel(\"Confidence score\")\n",
    "plt.ylabel(\"Number of samples\")\n",
    "plt.show()\n"
   ]
  },
  {
   "cell_type": "code",
   "execution_count": 107,
   "metadata": {},
   "outputs": [
    {
     "data": {
      "image/png": "[encoded data removed]",
      "text/plain": [
       "<Figure size 700x400 with 1 Axes>"
      ]
     },
     "metadata": {},
     "output_type": "display_data"
    }
   ],
   "source": [
    "confidence = classifier.decision_function(X_test_proxy)\n",
    "acc = []\n",
    "pos_acc = []\n",
    "to = []\n",
    "scale = round(max(abs(confidence)), 0)\n",
    "pos_total = sum([1 for i in range(len(y_pred_proxy)) if y_test_gold[i] == 1])\n",
    "for k in range(num_steps):\n",
    "    total, count = 0, 0\n",
    "    pos_correct = 0\n",
    "    for i in range(len(y_pred_proxy)):\n",
    "        total += 1\n",
    "        # if abs(confidence[i]) > k/num_steps*scale:\n",
    "        #     label_we_use = y_pred_proxy[i]\n",
    "        # else:\n",
    "        label_we_use = y_test_proxy[i]\n",
    "        \n",
    "        if label_we_use == y_test_gold[i]:\n",
    "            count += 1\n",
    "        if y_test_gold[i] == 1 and label_we_use == y_test_gold[i]:\n",
    "            pos_correct += 1\n",
    "\n",
    "    acc.append(count / total)\n",
    "    pos_acc.append(pos_correct / pos_total)\n",
    "\n",
    "\n",
    "plt.plot([i/num_steps*scale for i in range(num_steps)], acc)\n",
    "plt.plot([i/num_steps*scale for i in range(num_steps)], pos_acc)\n",
    "plt.plot([i/num_steps*scale for i in range(num_steps)], [baseline_acc for _ in range(num_steps)])\n",
    "plt.plot([i/num_steps*scale for i in range(num_steps)], [baseline_pos_acc for _ in range(num_steps)])\n",
    "plt.legend([\"Overall accuracy\", \"Positive accuracy\", \"Overall baseline\", \"Positive baseline\"], loc='lower right')\n",
    "plt.xlabel(\"Confidence threshold\")\n",
    "plt.ylabel(\"Accuracy\")\n",
    "plt.title(\"Overall Accuracy vs. Confidence threshold\")\n",
    "plt.gcf().set_size_inches(7, 4)\n",
    "# plt.savefig('confidence.png', dpi=300)\n",
    "plt.show()"
   ]
  },
  {
   "cell_type": "markdown",
   "metadata": {},
   "source": [
    "### RQ - Change training data size"
   ]
  },
  {
   "cell_type": "code",
   "execution_count": null,
   "metadata": {},
   "outputs": [],
   "source": [
    "accuracies = []\n",
    "X_len = X_train_proxy.shape[0]\n",
    "y_len = len(y_train_proxy)\n",
    "for i in range(1, 80):\n",
    "    # Split the data into training and test sets\n",
    "    X_train_proxy_sampled, y_train_proxy_sampled = X_train_proxy[:min(i*10,X_len)], y_train_proxy[:min(i*10,y_len)]\n",
    "    # Train a logistic regression classifier\n",
    "    classifier = LogisticRegression()\n",
    "    classifier.fit(X_train_proxy_sampled, y_train_proxy_sampled)\n",
    "    \n",
    "\n",
    "    # Make predictions on the test set\n",
    "    y_pred_proxy_sampled = classifier.predict(X_test_proxy)\n",
    "\n",
    "    # Evaluate the accuracy of the classifier\n",
    "    accuracy = accuracy_score(y_test_proxy, y_pred_proxy_sampled)\n",
    "    accuracies.append(accuracy)\n",
    "\n",
    "plt.plot(np.arange(10, 800, 10), accuracies)\n",
    "plt.xlabel(\"Number of samples\")\n",
    "plt.ylabel(\"Accuracy\")\n",
    "# set size\n",
    "plt.gcf().set_size_inches(10, 5)\n",
    "plt.savefig('accuracy.png', dpi=300)"
   ]
  },
  {
   "cell_type": "markdown",
   "metadata": {},
   "source": [
    "### RQ - Manually adjust label distribution"
   ]
  },
  {
   "cell_type": "code",
   "execution_count": null,
   "metadata": {},
   "outputs": [],
   "source": [
    "num_samples_idx=8\n",
    "X_train_proxy_sampled, y_train_proxy_sampled = X_train_proxy[:min(num_samples_idx*10,X_len)], y_train_proxy[:min(num_samples_idx*10,y_len)]\n",
    "# Train a logistic regression classifier\n",
    "classifier = LogisticRegression()\n",
    "classifier.fit(X_train_proxy_sampled, y_train_proxy_sampled)\n",
    "\n",
    "# Make predictions on the test set\n",
    "y_pred_proxy_sampled = classifier.predict(X_test_proxy)\n",
    "\n",
    "# Evaluate the accuracy of the classifier\n",
    "accuracy = accuracy_score(y_test_proxy, y_pred_proxy_sampled)\n",
    "print(\"Accuracy:\", accuracy)\n",
    "\n",
    "# calculate accuracy for each class\n",
    "pos_correct = 0\n",
    "pos_total = 0\n",
    "neg_correct = 0\n",
    "neg_total = 0\n",
    "for i in range(len(y_pred_proxy_sampled)):\n",
    "    if y_test_proxy[i] == 1:\n",
    "        pos_total += 1\n",
    "        if y_pred_proxy_sampled[i] == y_test_proxy[i]:\n",
    "            pos_correct += 1\n",
    "    else:\n",
    "        neg_total += 1\n",
    "        if y_pred_proxy_sampled[i] == y_test_proxy[i]:\n",
    "            neg_correct += 1\n",
    "\n",
    "print(\"Positive accuracy: \", pos_correct / pos_total)\n",
    "print(\"Negative accuracy: \", neg_correct / neg_total)"
   ]
  },
  {
   "cell_type": "code",
   "execution_count": null,
   "metadata": {},
   "outputs": [],
   "source": [
    "import scipy\n",
    "# put more negative samples into training data\n",
    "new_negative_samples = []\n",
    "new_positive_samples = []\n",
    "for x, y in zip(X_train_proxy[:][min(num_samples_idx*10,X_len):], y_train_proxy[:][min(num_samples_idx*10,y_len):]):\n",
    "    if y == 0:\n",
    "        new_negative_samples = scipy.sparse.vstack([new_negative_samples, x]).tocsr()\n",
    "    else:\n",
    "        new_positive_samples = scipy.sparse.vstack([new_positive_samples, x]).tocsr()\n",
    "print(new_negative_samples.shape, new_positive_samples.shape)"
   ]
  },
  {
   "cell_type": "code",
   "execution_count": null,
   "metadata": {},
   "outputs": [],
   "source": [
    "new_accuracy, new_pos_accuracy, new_neg_accuracy = [accuracy], [pos_correct / pos_total], [neg_correct / neg_total]\n",
    "num_new_samples = 10\n",
    "for k in range(num_new_samples):\n",
    "    X_train_proxy_sampled_plus = scipy.sparse.vstack([X_train_proxy[:min(num_samples_idx*10,X_len)], new_negative_samples[:k]])\n",
    "    y_train_proxy_sampled_plus = y_train_proxy[:min(num_samples_idx*10,y_len)] + [0] * k\n",
    "\n",
    "    # Train a logistic regression classifier\n",
    "    classifier = LogisticRegression()\n",
    "    classifier.fit(X_train_proxy_sampled_plus, y_train_proxy_sampled_plus)\n",
    "\n",
    "    # Make predictions on the test set\n",
    "    y_pred_proxy_sampled_plus = classifier.predict(X_test_proxy)\n",
    "\n",
    "    # Evaluate the accuracy of the classifier\n",
    "    accuracy = accuracy_score(y_test_proxy, y_pred_proxy_sampled_plus)\n",
    "    new_accuracy.append(accuracy)\n",
    "\n",
    "    # calculate accuracy for each class\n",
    "    pos_correct = 0\n",
    "    pos_total = 0\n",
    "    neg_correct = 0\n",
    "    neg_total = 0\n",
    "    for i in range(len(y_pred_proxy_sampled_plus)):\n",
    "        if y_test_proxy[i] == 1:\n",
    "            pos_total += 1\n",
    "            if y_pred_proxy_sampled_plus[i] == y_test_proxy[i]:\n",
    "                pos_correct += 1\n",
    "        else:\n",
    "            neg_total += 1\n",
    "            if y_pred_proxy_sampled_plus[i] == y_test_proxy[i]:\n",
    "                neg_correct += 1\n",
    "                \n",
    "    new_pos_accuracy.append(pos_correct / pos_total)\n",
    "    new_neg_accuracy.append(neg_correct / neg_total)"
   ]
  },
  {
   "cell_type": "code",
   "execution_count": null,
   "metadata": {},
   "outputs": [],
   "source": [
    "# plot the accuracy changes as we adjust the number of samples\n",
    "plt.plot(np.arange(num_samples_idx*10, num_samples_idx*10+num_new_samples+1), new_accuracy)\n",
    "plt.plot(np.arange(num_samples_idx*10, num_samples_idx*10+num_new_samples+1), new_pos_accuracy)\n",
    "plt.plot(np.arange(num_samples_idx*10, num_samples_idx*10+num_new_samples+1), new_neg_accuracy)\n",
    "plt.xlabel(\"Number of samples\")\n",
    "plt.ylabel(\"Accuracy\")\n",
    "# set x-axis split\n",
    "plt.xticks(np.arange(num_samples_idx*10, num_samples_idx*10+num_new_samples+1, 1))\n",
    "# set size\n",
    "plt.gcf().set_size_inches(10, 4)\n",
    "plt.savefig('accuracy_change.png', dpi=300)\n",
    "plt.legend([\"Overall\", \"Positive\", \"Negative\"])\n",
    "print(new_accuracy)\n"
   ]
  },
  {
   "cell_type": "markdown",
   "metadata": {},
   "source": [
    "## Training with Ground Truth"
   ]
  },
  {
   "cell_type": "code",
   "execution_count": 90,
   "metadata": {},
   "outputs": [
    {
     "name": "stdout",
     "output_type": "stream",
     "text": [
      "Accuracy: 0.9075\n",
      "Positive accuracy:  0.18604651162790697\n",
      "Negative accuracy:  0.9943977591036415\n"
     ]
    }
   ],
   "source": [
    "\n",
    "# Split the data into training and test sets\n",
    "X_train_gold, X_test_gold, y_train_gold, y_test_gold = train_test_split(texts, labels, test_size=0.2, random_state=42)\n",
    "\n",
    "# X_train_gold = vectorizer.fit_transform(X_train_gold)\n",
    "# X_test_gold = vectorizer.transform(X_test_gold)\n",
    "\n",
    "# Train a logistic regression classifier\n",
    "classifier = LogisticRegression()\n",
    "classifier.fit(X_train_gold, y_train_gold)\n",
    "\n",
    "# Make predictions on the test set\n",
    "y_pred_gold = classifier.predict(X_test_gold)\n",
    "\n",
    "# Evaluate the accuracy of the classifier\n",
    "accuracy = accuracy_score(y_test_gold, y_pred_gold)\n",
    "print(\"Accuracy:\", accuracy)\n",
    "\n",
    "\n",
    "# calculate accuracy for each class\n",
    "pos_correct = 0\n",
    "pos_total = 0\n",
    "neg_correct = 0\n",
    "neg_total = 0\n",
    "for i in range(len(y_pred_gold)):\n",
    "    if y_test_gold[i] == 1:\n",
    "        pos_total += 1\n",
    "        if y_pred_gold[i] == y_test_gold[i]:\n",
    "            pos_correct += 1\n",
    "    else:\n",
    "        neg_total += 1\n",
    "        if y_pred_gold[i] == y_test_gold[i]:\n",
    "            neg_correct += 1\n",
    "\n",
    "print(\"Positive accuracy: \", pos_correct / pos_total)\n",
    "print(\"Negative accuracy: \", neg_correct / neg_total)"
   ]
  }
 ],
 "metadata": {
  "kernelspec": {
   "display_name": "eff",
   "language": "python",
   "name": "python3"
  },
  "language_info": {
   "codemirror_mode": {
    "name": "ipython",
    "version": 3
   },
   "file_extension": ".py",
   "mimetype": "text/x-python",
   "name": "python",
   "nbconvert_exporter": "python",
   "pygments_lexer": "ipython3",
   "version": "3.10.12"
  },
  "orig_nbformat": 4
 },
 "nbformat": 4,
 "nbformat_minor": 2
}
