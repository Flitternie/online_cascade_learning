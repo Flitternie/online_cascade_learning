{
 "cells": [
  {
   "cell_type": "code",
   "execution_count": 12,
   "metadata": {},
   "outputs": [],
   "source": [
    "from lr import LogisticRegressionModelSkLearn\n",
    "import datasets\n",
    "# Load the dataset\n",
    "imdb_data = datasets.load_from_disk(\"data/5000_sampled_imdb\")"
   ]
  },
  {
   "cell_type": "code",
   "execution_count": 13,
   "metadata": {},
   "outputs": [
    {
     "name": "stdout",
     "output_type": "stream",
     "text": [
      "LLAMA Accuracy: 0.9458\n",
      "LLAMA Accuracy: 1.0\n",
      "Logistic Regression Model initialized\n",
      "Accuracy: 0.7758\n",
      "Logistic Regression Model initialized\n",
      "Accuracy: 0.8128\n",
      "Logistic Regression Model initialized\n",
      "Accuracy: 0.7994\n",
      "Logistic Regression Model initialized\n",
      "Accuracy: 0.7902\n",
      "Logistic Regression Model initialized\n",
      "Accuracy: 0.8254\n",
      "Logistic Regression Model initialized\n",
      "Accuracy: 0.8136\n",
      "Logistic Regression Model initialized\n",
      "Accuracy: 0.7838\n",
      "Logistic Regression Model initialized\n",
      "Accuracy: 0.7958\n",
      "Logistic Regression Model initialized\n",
      "Accuracy: 0.8278\n",
      "Logistic Regression Model initialized\n",
      "Accuracy: 0.8346\n",
      "Logistic Regression Model initialized\n",
      "Accuracy: 0.829\n",
      "Logistic Regression Model initialized\n",
      "Accuracy: 0.8378\n"
     ]
    }
   ],
   "source": [
    "import random\n",
    "import numpy as np\n",
    "from utils import *\n",
    "random.seed(42)\n",
    "results = []\n",
    "\n",
    "# substitute the labels with llama predictions\n",
    "llama_labels = open(\"./10000_sampled_imdb_llama.txt\", \"r\").readlines()\n",
    "llama_labels = [int(l.strip()) for l in llama_labels]\n",
    "total, correct = 0, 0\n",
    "for i, d in enumerate(imdb_data):\n",
    "    if d['label'] == llama_labels[i]:\n",
    "        correct += 1\n",
    "    total += 1\n",
    "print(f\"LLAMA Accuracy: {correct/total}\")\n",
    "def update_labels(example, idx):\n",
    "    example['label'] = llama_labels[idx]\n",
    "    return example\n",
    "imdb_data = imdb_data.map(update_labels, with_indices=True)\n",
    "total, correct = 0, 0\n",
    "for i, d in enumerate(imdb_data):\n",
    "    if d['label'] == llama_labels[i]:\n",
    "        correct += 1\n",
    "    total += 1\n",
    "print(f\"LLAMA Accuracy: {correct/total}\")\n",
    "\n",
    "test_data = datasets.load_from_disk(\"data/5000_sampled_imdb_test\")\n",
    "for i in np.arange(0.1, 0.7, 0.05):\n",
    "    train_data = imdb_data[:int(len(imdb_data)*i)]\n",
    "    imdb_data = imdb_data.shuffle()\n",
    "    lr_config = ModelArguments()\n",
    "    lr_config.num_labels = 2\n",
    "    lr_model = LogisticRegressionModelSkLearn(lr_config, train_data['text'])\n",
    "    lr_model.train(train_data)\n",
    "    acc = lr_model.evaluate(test_data)\n",
    "    print(f\"Accuracy: {acc}\")\n",
    "    results.append((i, acc))"
   ]
  },
  {
   "cell_type": "code",
   "execution_count": 14,
   "metadata": {},
   "outputs": [
    {
     "data": {
      "text/plain": [
       "[(0.1, 0.7758),\n",
       " (0.15000000000000002, 0.8128),\n",
       " (0.20000000000000004, 0.7994),\n",
       " (0.25000000000000006, 0.7902),\n",
       " (0.30000000000000004, 0.8254),\n",
       " (0.3500000000000001, 0.8136),\n",
       " (0.40000000000000013, 0.7838),\n",
       " (0.45000000000000007, 0.7958),\n",
       " (0.5000000000000001, 0.8278),\n",
       " (0.5500000000000002, 0.8346),\n",
       " (0.6000000000000002, 0.829),\n",
       " (0.6500000000000001, 0.8378)]"
      ]
     },
     "execution_count": 14,
     "metadata": {},
     "output_type": "execute_result"
    }
   ],
   "source": [
    "results"
   ]
  },
  {
   "cell_type": "code",
   "execution_count": 3,
   "metadata": {},
   "outputs": [],
   "source": [
    "import random\n",
    "random.seed(42)\n",
    "imdb_data = imdb_data.shuffle()\n",
    "train_data = imdb_data[:int(len(imdb_data)*0.8)]\n",
    "test_data = imdb_data[int(len(imdb_data)*0.8):]"
   ]
  },
  {
   "cell_type": "code",
   "execution_count": null,
   "metadata": {},
   "outputs": [
    {
     "name": "stdout",
     "output_type": "stream",
     "text": [
      "Logistic Regression Model initialized\n"
     ]
    }
   ],
   "source": [
    "from utils import *\n",
    "\n",
    "lr_config = ModelArguments()\n",
    "lr_config.num_labels = 2\n",
    "\n",
    "lr_model = LogisticRegressionModelSkLearn(lr_config, train_data['text'])\n",
    "lr_model.train(train_data)"
   ]
  },
  {
   "cell_type": "code",
   "execution_count": null,
   "metadata": {},
   "outputs": [],
   "source": [
    "lr_model.evaluate(test_data)\n",
    "# save the model as a pickle file\n",
    "import pickle\n",
    "with open('./models/lr_imdb_5000.pkl', 'wb') as f:\n",
    "    pickle.dump(lr_model, f)"
   ]
  },
  {
   "cell_type": "code",
   "execution_count": null,
   "metadata": {},
   "outputs": [
    {
     "data": {
      "text/plain": [
       "0.853"
      ]
     },
     "execution_count": 7,
     "metadata": {},
     "output_type": "execute_result"
    }
   ],
   "source": [
    "import pickle\n",
    "with open('./models/lr_imdb_5000.pkl', 'rb') as f:\n",
    "    lr_model = pickle.load(f)\n",
    "datasets.load_from_disk(\"data/5000_sampled_imdb_test\")\n",
    "lr_model.evaluate(test_data)"
   ]
  },
  {
   "cell_type": "code",
   "execution_count": 4,
   "metadata": {},
   "outputs": [
    {
     "name": "stdout",
     "output_type": "stream",
     "text": [
      "Logistic Regression Model initialized\n"
     ]
    },
    {
     "data": {
      "text/plain": [
       "0.855"
      ]
     },
     "execution_count": 4,
     "metadata": {},
     "output_type": "execute_result"
    }
   ],
   "source": [
    "from utils import *\n",
    "import numpy as np\n",
    "from lr import LogisticRegressionModel\n",
    "\n",
    "\n",
    "lr_config = ModelArguments()\n",
    "lr_config.num_labels = 2\n",
    "lr_config.num_epochs = 100\n",
    "lr_config.learning_rate = 0.7\n",
    "\n",
    "lr_model = LogisticRegressionModel(lr_config, data=train_data['text'])\n",
    "lr_model.train(train_data)\n",
    "lr_model.evaluate(test_data)"
   ]
  },
  {
   "cell_type": "code",
   "execution_count": 5,
   "metadata": {},
   "outputs": [],
   "source": [
    "import pickle\n",
    "with open('./models/lr_imdb_5000_torch.pkl', 'wb') as f:\n",
    "    pickle.dump(lr_model, f)"
   ]
  }
 ],
 "metadata": {
  "kernelspec": {
   "display_name": "eff",
   "language": "python",
   "name": "python3"
  },
  "language_info": {
   "codemirror_mode": {
    "name": "ipython",
    "version": 3
   },
   "file_extension": ".py",
   "mimetype": "text/x-python",
   "name": "python",
   "nbconvert_exporter": "python",
   "pygments_lexer": "ipython3",
   "version": "3.10.12"
  }
 },
 "nbformat": 4,
 "nbformat_minor": 2
}
