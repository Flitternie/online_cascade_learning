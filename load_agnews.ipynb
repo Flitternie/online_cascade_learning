{
 "cells": [
  {
   "cell_type": "markdown",
   "metadata": {},
   "source": [
    "# Load Dataset"
   ]
  },
  {
   "cell_type": "code",
   "execution_count": 1,
   "metadata": {},
   "outputs": [
    {
     "name": "stderr",
     "output_type": "stream",
     "text": [
      "/home/lynie/miniconda3/envs/eff/lib/python3.10/site-packages/tqdm/auto.py:21: TqdmWarning: IProgress not found. Please update jupyter and ipywidgets. See https://ipywidgets.readthedocs.io/en/stable/user_install.html\n",
      "  from .autonotebook import tqdm as notebook_tqdm\n"
     ]
    }
   ],
   "source": [
    "import datasets \n",
    "from datasets import load_dataset\n",
    "\n",
    "dataset = load_dataset(\"ag_news\")"
   ]
  },
  {
   "cell_type": "code",
   "execution_count": 3,
   "metadata": {},
   "outputs": [
    {
     "data": {
      "text/plain": [
       "(120000, 7600)"
      ]
     },
     "execution_count": 3,
     "metadata": {},
     "output_type": "execute_result"
    }
   ],
   "source": [
    "len(dataset['train']), len(dataset['test'])"
   ]
  },
  {
   "cell_type": "code",
   "execution_count": 4,
   "metadata": {},
   "outputs": [],
   "source": [
    "import random\n",
    "# randomly select 200 samples from the training set\n",
    "random.seed(42)\n",
    "sampled_dataset_idx = random.sample(range(len(dataset['train'])), 10000)\n",
    "sampled_dataset = dataset['train'].select(sampled_dataset_idx)"
   ]
  },
  {
   "cell_type": "code",
   "execution_count": 5,
   "metadata": {},
   "outputs": [
    {
     "data": {
      "text/plain": [
       "1    2576\n",
       "2    2483\n",
       "0    2479\n",
       "3    2462\n",
       "Name: count, dtype: int64"
      ]
     },
     "execution_count": 5,
     "metadata": {},
     "output_type": "execute_result"
    }
   ],
   "source": [
    "# check the label distribution of sampled dataset\n",
    "import pandas as pd\n",
    "pd.Series(sampled_dataset['label']).value_counts()"
   ]
  },
  {
   "cell_type": "code",
   "execution_count": 6,
   "metadata": {},
   "outputs": [
    {
     "name": "stderr",
     "output_type": "stream",
     "text": [
      "Saving the dataset (1/1 shards): 100%|██████████| 10000/10000 [00:00<00:00, 194239.19 examples/s]\n"
     ]
    }
   ],
   "source": [
    "# save the sampled dataset\n",
    "sampled_dataset.save_to_disk('data/10000_sampled_agnews')"
   ]
  },
  {
   "cell_type": "code",
   "execution_count": 1,
   "metadata": {},
   "outputs": [
    {
     "name": "stderr",
     "output_type": "stream",
     "text": [
      "/home/lynie/miniconda3/envs/eff/lib/python3.10/site-packages/tqdm/auto.py:21: TqdmWarning: IProgress not found. Please update jupyter and ipywidgets. See https://ipywidgets.readthedocs.io/en/stable/user_install.html\n",
      "  from .autonotebook import tqdm as notebook_tqdm\n",
      "Loading checkpoint shards: 100%|██████████| 2/2 [00:01<00:00,  1.59it/s]\n",
      "/home/lynie/miniconda3/envs/eff/lib/python3.10/site-packages/torch/cuda/__init__.py:546: UserWarning: Can't initialize NVML\n",
      "  warnings.warn(\"Can't initialize NVML\")\n"
     ]
    },
    {
     "name": "stdout",
     "output_type": "stream",
     "text": [
      "Llama Model loaded\n"
     ]
    }
   ],
   "source": [
    "from utils import *\n",
    "import llama\n",
    "llama_config = ModelArguments()\n",
    "llama_config.model = \"meta-llama/Llama-2-7b-chat-hf\"\n",
    "llama_config.temperature = 0.3\n",
    "llama_config.max_new_tokens = 100\n",
    "llama_config.top_k = 5\n",
    "llama_model = llama.LlamaModel(llama_config)"
   ]
  },
  {
   "cell_type": "code",
   "execution_count": 2,
   "metadata": {},
   "outputs": [],
   "source": [
    "import datasets\n",
    "dataset = datasets.load_from_disk(\"./data/10000_sampled_agnews\")\n",
    "from inference_agnews import *"
   ]
  },
  {
   "cell_type": "code",
   "execution_count": 7,
   "metadata": {},
   "outputs": [
    {
     "name": "stderr",
     "output_type": "stream",
     "text": [
      "Accuracy: 0.6866: 100%|██████████| 10000/10000 [2:22:19<00:00,  1.17it/s] \n"
     ]
    }
   ],
   "source": [
    "from tqdm import tqdm\n",
    "correct,total = 0,0\n",
    "bar = tqdm(range(len(dataset['text'])))\n",
    "with open('10000_sampled_agnews_llama.txt', 'w+') as f:\n",
    "    for i in bar:\n",
    "        pred = llama_model.predict(PROMPT.format(dataset[i]['text']))\n",
    "        pred = postprocess(pred[0])\n",
    "        f.write(str(pred) + '\\n')\n",
    "        if pred == dataset[i]['label']:\n",
    "            correct += 1\n",
    "        total += 1\n",
    "        bar.set_description(f\"Accuracy: {correct/total:.4f}\")"
   ]
  }
 ],
 "metadata": {
  "kernelspec": {
   "display_name": "eff",
   "language": "python",
   "name": "python3"
  },
  "language_info": {
   "codemirror_mode": {
    "name": "ipython",
    "version": 3
   },
   "file_extension": ".py",
   "mimetype": "text/x-python",
   "name": "python",
   "nbconvert_exporter": "python",
   "pygments_lexer": "ipython3",
   "version": "3.10.12"
  },
  "orig_nbformat": 4
 },
 "nbformat": 4,
 "nbformat_minor": 2
}
