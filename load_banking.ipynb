{
 "cells": [
  {
   "cell_type": "markdown",
   "metadata": {},
   "source": [
    "# Load Dataset"
   ]
  },
  {
   "cell_type": "code",
   "execution_count": null,
   "metadata": {},
   "outputs": [],
   "source": [
    "# set cuda device\n",
    "import os\n",
    "os.environ[\"CUDA_VISIBLE_DEVICES\"] = \"2\"\n"
   ]
  },
  {
   "cell_type": "code",
   "execution_count": 25,
   "metadata": {},
   "outputs": [
    {
     "name": "stderr",
     "output_type": "stream",
     "text": [
      "Downloading builder script: 100%|██████████| 7.30k/7.30k [00:00<00:00, 8.84MB/s]\n",
      "Downloading metadata: 100%|██████████| 5.89k/5.89k [00:00<00:00, 6.58MB/s]\n",
      "Downloading readme: 100%|██████████| 9.78k/9.78k [00:00<00:00, 11.0MB/s]\n",
      "Downloading data: 839kB [00:00, 35.2MB/s]                   \n",
      "Downloading data: 240kB [00:00, 18.6MB/s]                    \n",
      "Generating train split: 100%|██████████| 10003/10003 [00:00<00:00, 40957.81 examples/s]\n",
      "Generating test split: 100%|██████████| 3080/3080 [00:00<00:00, 21173.15 examples/s]\n"
     ]
    }
   ],
   "source": [
    "import datasets \n",
    "from datasets import load_dataset\n",
    "\n",
    "dataset = load_dataset(\"PolyAI/banking77\")"
   ]
  },
  {
   "cell_type": "code",
   "execution_count": 26,
   "metadata": {},
   "outputs": [
    {
     "data": {
      "text/plain": [
       "(10003, 3080)"
      ]
     },
     "execution_count": 26,
     "metadata": {},
     "output_type": "execute_result"
    }
   ],
   "source": [
    "len(dataset['train']), len(dataset['test'])"
   ]
  },
  {
   "cell_type": "code",
   "execution_count": 28,
   "metadata": {},
   "outputs": [
    {
     "name": "stderr",
     "output_type": "stream",
     "text": [
      "Loading checkpoint shards: 100%|██████████| 2/2 [00:01<00:00,  1.52it/s]\n",
      "/home/lynie/miniconda3/envs/eff/lib/python3.10/site-packages/torch/cuda/__init__.py:546: UserWarning: Can't initialize NVML\n",
      "  warnings.warn(\"Can't initialize NVML\")\n"
     ]
    },
    {
     "name": "stdout",
     "output_type": "stream",
     "text": [
      "Llama Model loaded\n"
     ]
    }
   ],
   "source": [
    "from utils import *\n",
    "import llama\n",
    "llama_config = ModelArguments()\n",
    "llama_config.model = \"meta-llama/Llama-2-7b-chat-hf\"\n",
    "llama_config.temperature = 0.3\n",
    "llama_config.max_new_tokens = 100\n",
    "llama_config.top_k = 5\n",
    "llama_model = llama.LlamaModel(llama_config)"
   ]
  },
  {
   "cell_type": "code",
   "execution_count": 58,
   "metadata": {},
   "outputs": [],
   "source": [
    "from transformers.models.llama.tokenization_llama import B_SYS, E_SYS\n",
    "SystemPrompt = '''You are an expert assistant in the field of customer service. Your task is to help workers in the customer service department of a company. \n",
    "Your task is to classify the customer's question in order to help the customer service worker to answer the question. In order to help the worker you MUST respond with the number and the name of one of the following classes you know. \n",
    "In case you reply with something else, you will be penalized.'''\n",
    "SystemPrompt += ''' The classes are: \\n\n",
    "- activate_my_card\n",
    "- age_limit\n",
    "- apple_pay_or_google_pay\n",
    "- atm_support\n",
    "- automatic_top_up\n",
    "- balance_not_updated_after_bank_transfer\n",
    "- balance_not_updated_after_cheque_or_cash_deposit\n",
    "- beneficiary_not_allowed\n",
    "- cancel_transfer\n",
    "- card_about_to_expire\n",
    "- card_acceptance\n",
    "- card_arrival\n",
    "- card_delivery_estimate\n",
    "- card_linking\n",
    "- card_not_working\n",
    "- card_payment_fee_charged\n",
    "- card_payment_not_recognised\n",
    "- card_payment_wrong_exchange_rate\n",
    "- card_swallowed\n",
    "- cash_withdrawal_charge\n",
    "- cash_withdrawal_not_recognised\n",
    "- change_pin\n",
    "- compromised_card\n",
    "- contactless_not_working\n",
    "- country_support\n",
    "- declined_card_payment\n",
    "- declined_cash_withdrawal\n",
    "- declined_transfer\n",
    "- direct_debit_payment_not_recognised\n",
    "- disposable_card_limits\n",
    "- edit_personal_details\n",
    "- exchange_charge\n",
    "- exchange_rate\n",
    "- exchange_via_app\n",
    "- extra_charge_on_statement\n",
    "- failed_transfer\n",
    "- fiat_currency_support\n",
    "- get_disposable_virtual_card\n",
    "- get_physical_card\n",
    "- getting_spare_card\n",
    "- getting_virtual_card\n",
    "- lost_or_stolen_card\n",
    "- lost_or_stolen_phone\n",
    "- order_physical_card\n",
    "- passcode_forgotten\n",
    "- pending_card_payment\n",
    "- pending_cash_withdrawal\n",
    "- pending_top_up\n",
    "- pending_transfer\n",
    "- pin_blocked\n",
    "- receiving_money\n",
    "- Refund_not_showing_up\n",
    "- request_refund\n",
    "- reverted_card_payment\n",
    "- supported_cards_and_currencies\n",
    "- terminate_account\n",
    "- top_up_by_bank_transfer_charge\n",
    "- top_up_by_card_charge\n",
    "- top_up_by_cash_or_cheque\n",
    "- top_up_failed\n",
    "- top_up_limits\n",
    "- top_up_reverted\n",
    "- topping_up_by_card\n",
    "- transaction_charged_twice\n",
    "- transfer_fee_charged\n",
    "- transfer_into_account\n",
    "- transfer_not_received_by_recipient\n",
    "- transfer_timing\n",
    "- unable_to_verify_identity\n",
    "- verify_my_identity\n",
    "- verify_source_of_funds\n",
    "- verify_top_up\n",
    "- virtual_card_not_working\n",
    "- visa_or_mastercard\n",
    "- why_verify_identity\n",
    "- wrong_amount_of_cash_received\n",
    "- wrong_exchange_rate_for_cash_withdrawal\n",
    "'''\n",
    "Prompt = '''Here is the user query: {} \\n If multiple classes match the query intention, respond with the MOST precise class name.'''\n",
    "PROMPT = \" \".join([\"[INST]\", B_SYS, SystemPrompt, E_SYS, Prompt, \"[/INST]\"])"
   ]
  },
  {
   "cell_type": "code",
   "execution_count": 67,
   "metadata": {},
   "outputs": [],
   "source": [
    "id_to_label = {0: \"activate_my_card\",\n",
    "1: \"age_limit\",\n",
    "2: \"apple_pay_or_google_pay\",\n",
    "3: \"atm_support\",\n",
    "4: \"automatic_top_up\",\n",
    "5: \"balance_not_updated_after_bank_transfer\",\n",
    "6: \"balance_not_updated_after_cheque_or_cash_deposit\",\n",
    "7: \"beneficiary_not_allowed\",\n",
    "8: \"cancel_transfer\",\n",
    "9: \"card_about_to_expire\",\n",
    "10: \"card_acceptance\",\n",
    "11: \"card_arrival\",\n",
    "12: \"card_delivery_estimate\",\n",
    "13: \"card_linking\",\n",
    "14: \"card_not_working\",\n",
    "15: \"card_payment_fee_charged\",\n",
    "16: \"card_payment_not_recognised\",\n",
    "17: \"card_payment_wrong_exchange_rate\",\n",
    "18: \"card_swallowed\",\n",
    "19: \"cash_withdrawal_charge\",\n",
    "20: \"cash_withdrawal_not_recognised\",\n",
    "21: \"change_pin\",\n",
    "22: \"compromised_card\",\n",
    "23: \"contactless_not_working\",\n",
    "24: \"country_support\",\n",
    "25: \"declined_card_payment\",\n",
    "26: \"declined_cash_withdrawal\",\n",
    "27: \"declined_transfer\",\n",
    "28: \"direct_debit_payment_not_recognised\",\n",
    "29: \"disposable_card_limits\",\n",
    "30: \"edit_personal_details\",\n",
    "31: \"exchange_charge\",\n",
    "32: \"exchange_rate\",\n",
    "33: \"exchange_via_app\",\n",
    "34: \"extra_charge_on_statement\",\n",
    "35: \"failed_transfer\",\n",
    "36: \"fiat_currency_support\",\n",
    "37: \"get_disposable_virtual_card\",\n",
    "38: \"get_physical_card\",\n",
    "39: \"getting_spare_card\",\n",
    "40: \"getting_virtual_card\",\n",
    "41: \"lost_or_stolen_card\",\n",
    "42: \"lost_or_stolen_phone\",\n",
    "43: \"order_physical_card\",\n",
    "44: \"passcode_forgotten\",\n",
    "45: \"pending_card_payment\",\n",
    "46: \"pending_cash_withdrawal\",\n",
    "47: \"pending_top_up\",\n",
    "48: \"pending_transfer\",\n",
    "49: \"pin_blocked\",\n",
    "50: \"receiving_money\",\n",
    "51: \"Refund_not_showing_up\",\n",
    "52: \"request_refund\",\n",
    "53: \"reverted_card_payment?\",\n",
    "54: \"supported_cards_and_currencies\",\n",
    "55: \"terminate_account\",\n",
    "56: \"top_up_by_bank_transfer_charge\",\n",
    "57: \"top_up_by_card_charge\",\n",
    "58: \"top_up_by_cash_or_cheque\",\n",
    "59: \"top_up_failed\",\n",
    "60: \"top_up_limits\",\n",
    "61: \"top_up_reverted\",\n",
    "62: \"topping_up_by_card\",\n",
    "63: \"transaction_charged_twice\",\n",
    "64: \"transfer_fee_charged\",\n",
    "65: \"transfer_into_account\",\n",
    "66: \"transfer_not_received_by_recipient\",\n",
    "67: \"transfer_timing\",\n",
    "68: \"unable_to_verify_identity\",\n",
    "69: \"verify_my_identity\",\n",
    "70: \"verify_source_of_funds\",\n",
    "71: \"verify_top_up\",\n",
    "72: \"virtual_card_not_working\",\n",
    "73: \"visa_or_mastercard\",\n",
    "74: \"why_verify_identity\",\n",
    "75: \"wrong_amount_of_cash_received\",\n",
    "76: \"wrong_exchange_rate_for_cash_withdrawal\"}"
   ]
  },
  {
   "cell_type": "code",
   "execution_count": 78,
   "metadata": {},
   "outputs": [
    {
     "name": "stderr",
     "output_type": "stream",
     "text": [
      "100%|██████████| 50/50 [02:11<00:00,  2.63s/it]\n"
     ]
    },
    {
     "data": {
      "text/plain": [
       "0.44"
      ]
     },
     "execution_count": 78,
     "metadata": {},
     "output_type": "execute_result"
    }
   ],
   "source": [
    "from tqdm import tqdm\n",
    "correct = 0\n",
    "\n",
    "for i in tqdm(range(50)):\n",
    "    pred = llama_model.predict(PROMPT.format(dataset['train'][i]['text']))\n",
    "    gold = id_to_label[dataset['train'][i]['label']]\n",
    "    if gold in pred[0]:\n",
    "        correct += 1\n",
    "correct/50"
   ]
  },
  {
   "cell_type": "code",
   "execution_count": 62,
   "metadata": {},
   "outputs": [
    {
     "data": {
      "text/plain": [
       "24"
      ]
     },
     "execution_count": 62,
     "metadata": {},
     "output_type": "execute_result"
    }
   ],
   "source": [
    "dataset['train'][10000]['label']"
   ]
  },
  {
   "cell_type": "code",
   "execution_count": 27,
   "metadata": {},
   "outputs": [
    {
     "data": {
      "text/plain": [
       "15    187\n",
       "28    182\n",
       "6     181\n",
       "75    180\n",
       "19    177\n",
       "     ... \n",
       "41     82\n",
       "18     61\n",
       "10     59\n",
       "72     41\n",
       "23     35\n",
       "Name: count, Length: 77, dtype: int64"
      ]
     },
     "execution_count": 27,
     "metadata": {},
     "output_type": "execute_result"
    }
   ],
   "source": [
    "# check the label distribution of sampled dataset\n",
    "import pandas as pd\n",
    "pd.Series(dataset['train']['label']).value_counts()"
   ]
  },
  {
   "cell_type": "code",
   "execution_count": 6,
   "metadata": {},
   "outputs": [
    {
     "name": "stderr",
     "output_type": "stream",
     "text": [
      "Saving the dataset (1/1 shards): 100%|██████████| 10000/10000 [00:00<00:00, 194239.19 examples/s]\n"
     ]
    }
   ],
   "source": [
    "# save the sampled dataset\n",
    "sampled_dataset.save_to_disk('data/10000_sampled_agnews')"
   ]
  }
 ],
 "metadata": {
  "kernelspec": {
   "display_name": "eff",
   "language": "python",
   "name": "python3"
  },
  "language_info": {
   "codemirror_mode": {
    "name": "ipython",
    "version": 3
   },
   "file_extension": ".py",
   "mimetype": "text/x-python",
   "name": "python",
   "nbconvert_exporter": "python",
   "pygments_lexer": "ipython3",
   "version": "3.10.12"
  },
  "orig_nbformat": 4
 },
 "nbformat": 4,
 "nbformat_minor": 2
}
