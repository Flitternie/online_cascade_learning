{
 "cells": [
  {
   "cell_type": "markdown",
   "metadata": {},
   "source": [
    "# Load Dataset"
   ]
  },
  {
   "cell_type": "code",
   "execution_count": 1,
   "metadata": {},
   "outputs": [
    {
     "name": "stderr",
     "output_type": "stream",
     "text": [
      "/home/lynie/miniconda3/envs/eff/lib/python3.10/site-packages/tqdm/auto.py:21: TqdmWarning: IProgress not found. Please update jupyter and ipywidgets. See https://ipywidgets.readthedocs.io/en/stable/user_install.html\n",
      "  from .autonotebook import tqdm as notebook_tqdm\n"
     ]
    }
   ],
   "source": [
    "import datasets \n",
    "from datasets import load_dataset\n",
    "\n",
    "dataset = load_dataset(\"hate_speech18\")"
   ]
  },
  {
   "cell_type": "code",
   "execution_count": 3,
   "metadata": {},
   "outputs": [
    {
     "name": "stderr",
     "output_type": "stream",
     "text": [
      "Filter: 100%|██████████| 10944/10944 [00:00<00:00, 96777.55 examples/s]\n"
     ]
    },
    {
     "data": {
      "text/plain": [
       "0    9507\n",
       "1    1196\n",
       "Name: count, dtype: int64"
      ]
     },
     "execution_count": 3,
     "metadata": {},
     "output_type": "execute_result"
    }
   ],
   "source": [
    "# examine the label distribution\n",
    "import pandas as pd\n",
    "pd.Series(dataset['train']['label']).value_counts()\n",
    "\n",
    "# filter out the ones with label 2 or 3\n",
    "dataset['train'] = dataset['train'].filter(lambda example: example['label'] < 2)\n",
    "\n",
    "# examine the label distribution again\n",
    "pd.Series(dataset['train']['label']).value_counts()"
   ]
  },
  {
   "cell_type": "code",
   "execution_count": 4,
   "metadata": {},
   "outputs": [],
   "source": [
    "import random\n",
    "# randomly select 2000 samples from the training set\n",
    "random.seed(42)\n",
    "sampled_dataset_idx = random.sample(range(len(dataset['train'])), 2000)\n",
    "sampled_dataset = dataset['train'].select(sampled_dataset_idx)"
   ]
  },
  {
   "cell_type": "code",
   "execution_count": 5,
   "metadata": {},
   "outputs": [
    {
     "data": {
      "text/plain": [
       "0    1776\n",
       "1     224\n",
       "Name: count, dtype: int64"
      ]
     },
     "execution_count": 5,
     "metadata": {},
     "output_type": "execute_result"
    }
   ],
   "source": [
    "pd.Series(sampled_dataset['label']).value_counts()"
   ]
  },
  {
   "cell_type": "code",
   "execution_count": 6,
   "metadata": {},
   "outputs": [
    {
     "name": "stderr",
     "output_type": "stream",
     "text": [
      "Saving the dataset (1/1 shards): 100%|██████████| 2000/2000 [00:00<00:00, 101462.41 examples/s]\n"
     ]
    }
   ],
   "source": [
    "# save the sampled dataset\n",
    "sampled_dataset.save_to_disk('2000_sampled_hatespeech')"
   ]
  }
 ],
 "metadata": {
  "kernelspec": {
   "display_name": "eff",
   "language": "python",
   "name": "python3"
  },
  "language_info": {
   "codemirror_mode": {
    "name": "ipython",
    "version": 3
   },
   "file_extension": ".py",
   "mimetype": "text/x-python",
   "name": "python",
   "nbconvert_exporter": "python",
   "pygments_lexer": "ipython3",
   "version": "3.10.12"
  },
  "orig_nbformat": 4
 },
 "nbformat": 4,
 "nbformat_minor": 2
}
