{
 "cells": [
  {
   "cell_type": "markdown",
   "metadata": {},
   "source": [
    "# Load Dataset"
   ]
  },
  {
   "cell_type": "code",
   "execution_count": 6,
   "metadata": {},
   "outputs": [],
   "source": [
    "import datasets \n",
    "from datasets import load_dataset\n",
    "\n",
    "dataset = load_dataset(\"hate_speech18\")"
   ]
  },
  {
   "cell_type": "code",
   "execution_count": 7,
   "metadata": {},
   "outputs": [
    {
     "data": {
      "text/plain": [
       "0    9507\n",
       "1    1196\n",
       "Name: count, dtype: int64"
      ]
     },
     "execution_count": 7,
     "metadata": {},
     "output_type": "execute_result"
    }
   ],
   "source": [
    "# examine the label distribution\n",
    "import pandas as pd\n",
    "pd.Series(dataset['train']['label']).value_counts()\n",
    "\n",
    "# filter out the ones with label 2 or 3\n",
    "dataset['train'] = dataset['train'].filter(lambda example: example['label'] < 2)\n",
    "\n",
    "# examine the label distribution again\n",
    "pd.Series(dataset['train']['label']).value_counts()"
   ]
  },
  {
   "cell_type": "code",
   "execution_count": 9,
   "metadata": {},
   "outputs": [
    {
     "name": "stderr",
     "output_type": "stream",
     "text": [
      "Saving the dataset (1/1 shards): 100%|██████████| 10703/10703 [00:00<00:00, 129784.75 examples/s]\n"
     ]
    }
   ],
   "source": [
    "# save the sampled dataset\n",
    "dataset.save_to_disk('data/hatespeech')"
   ]
  },
  {
   "cell_type": "code",
   "execution_count": 10,
   "metadata": {},
   "outputs": [],
   "source": [
    "from utils import *\n",
    "import llama\n",
    "llama_config = ModelArguments()\n",
    "llama_config.model = \"meta-llama/Llama-2-7b-chat-hf\"\n",
    "llama_config.temperature = 0.3\n",
    "llama_config.max_new_tokens = 100\n",
    "llama_config.top_k = 5\n",
    "llama_model = llama.LlamaModel(llama_config)"
   ]
  },
  {
   "cell_type": "code",
   "execution_count": 5,
   "metadata": {},
   "outputs": [
    {
     "name": "stderr",
     "output_type": "stream",
     "text": [
      "  0%|          | 0/10000 [00:00<?, ?it/s]"
     ]
    },
    {
     "name": "stderr",
     "output_type": "stream",
     "text": [
      "Accuracy: 0.5884: 100%|██████████| 10000/10000 [4:44:39<00:00,  1.71s/it]  \n"
     ]
    }
   ],
   "source": [
    "from inference_hatespeech import *\n",
    "from tqdm import tqdm\n",
    "correct,total = 0,0\n",
    "bar = tqdm(range(len(dataset['train']['text'])))\n",
    "with open('./llama_results/10000_sampled_hatespeech18_llama.txt', 'w+') as f:\n",
    "    for i in bar:\n",
    "        pred = llama_model.predict(PROMPT.format(dataset[i]['text']))\n",
    "        pred = postprocess(pred[0])\n",
    "        f.write(str(pred) + '\\n')\n",
    "        if pred == dataset[i]['label']:\n",
    "            correct += 1\n",
    "        total += 1\n",
    "        bar.set_description(f\"Accuracy: {correct/total:.4f}\")"
   ]
  }
 ],
 "metadata": {
  "kernelspec": {
   "display_name": "eff",
   "language": "python",
   "name": "python3"
  },
  "language_info": {
   "codemirror_mode": {
    "name": "ipython",
    "version": 3
   },
   "file_extension": ".py",
   "mimetype": "text/x-python",
   "name": "python",
   "nbconvert_exporter": "python",
   "pygments_lexer": "ipython3",
   "version": "3.10.12"
  },
  "orig_nbformat": 4
 },
 "nbformat": 4,
 "nbformat_minor": 2
}
